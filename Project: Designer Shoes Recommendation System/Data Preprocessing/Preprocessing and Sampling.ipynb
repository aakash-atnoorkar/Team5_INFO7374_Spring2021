{
 "cells": [
  {
   "cell_type": "code",
   "execution_count": 41,
   "id": "atlantic-johnson",
   "metadata": {},
   "outputs": [],
   "source": [
    "import pandas as pd\n",
    "import numpy as np\n",
    "low_memory=False"
   ]
  },
  {
   "cell_type": "markdown",
   "id": "legislative-mileage",
   "metadata": {},
   "source": [
    "## Processing women's and men's shoes dataset"
   ]
  },
  {
   "cell_type": "code",
   "execution_count": 60,
   "id": "excellent-encounter",
   "metadata": {},
   "outputs": [
    {
     "name": "stderr",
     "output_type": "stream",
     "text": [
      "b'Skipping line 251: expected 48 fields, saw 49\\nSkipping line 444: expected 48 fields, saw 50\\nSkipping line 847: expected 48 fields, saw 49\\nSkipping line 848: expected 48 fields, saw 49\\nSkipping line 1018: expected 48 fields, saw 49\\nSkipping line 1575: expected 48 fields, saw 51\\nSkipping line 2133: expected 48 fields, saw 49\\nSkipping line 2922: expected 48 fields, saw 51\\nSkipping line 3777: expected 48 fields, saw 51\\nSkipping line 4057: expected 48 fields, saw 49\\nSkipping line 4239: expected 48 fields, saw 49\\nSkipping line 4240: expected 48 fields, saw 49\\nSkipping line 4384: expected 48 fields, saw 49\\nSkipping line 4385: expected 48 fields, saw 49\\nSkipping line 5388: expected 48 fields, saw 49\\nSkipping line 5480: expected 48 fields, saw 49\\nSkipping line 5481: expected 48 fields, saw 49\\nSkipping line 5907: expected 48 fields, saw 50\\nSkipping line 5908: expected 48 fields, saw 50\\nSkipping line 6600: expected 48 fields, saw 49\\nSkipping line 6601: expected 48 fields, saw 49\\nSkipping line 6602: expected 48 fields, saw 49\\nSkipping line 6603: expected 48 fields, saw 49\\nSkipping line 7227: expected 48 fields, saw 49\\nSkipping line 7228: expected 48 fields, saw 49\\nSkipping line 7229: expected 48 fields, saw 49\\nSkipping line 7267: expected 48 fields, saw 51\\nSkipping line 9025: expected 48 fields, saw 49\\nSkipping line 9026: expected 48 fields, saw 49\\nSkipping line 9027: expected 48 fields, saw 49\\nSkipping line 9417: expected 48 fields, saw 50\\nSkipping line 10815: expected 48 fields, saw 49\\nSkipping line 11034: expected 48 fields, saw 50\\nSkipping line 11059: expected 48 fields, saw 49\\nSkipping line 11060: expected 48 fields, saw 49\\nSkipping line 11339: expected 48 fields, saw 50\\nSkipping line 11357: expected 48 fields, saw 49\\nSkipping line 11358: expected 48 fields, saw 49\\nSkipping line 11646: expected 48 fields, saw 49\\nSkipping line 11647: expected 48 fields, saw 49\\nSkipping line 12161: expected 48 fields, saw 50\\nSkipping line 12307: expected 48 fields, saw 49\\nSkipping line 12308: expected 48 fields, saw 49\\nSkipping line 12614: expected 48 fields, saw 49\\nSkipping line 12615: expected 48 fields, saw 49\\nSkipping line 12616: expected 48 fields, saw 49\\nSkipping line 12617: expected 48 fields, saw 49\\nSkipping line 12618: expected 48 fields, saw 49\\nSkipping line 12619: expected 48 fields, saw 49\\nSkipping line 12620: expected 48 fields, saw 49\\nSkipping line 12621: expected 48 fields, saw 49\\nSkipping line 12622: expected 48 fields, saw 49\\nSkipping line 12623: expected 48 fields, saw 49\\nSkipping line 12799: expected 48 fields, saw 49\\nSkipping line 14200: expected 48 fields, saw 49\\nSkipping line 14595: expected 48 fields, saw 49\\n'\n",
      "b'Skipping line 16747: expected 48 fields, saw 49\\nSkipping line 16748: expected 48 fields, saw 49\\nSkipping line 16749: expected 48 fields, saw 49\\nSkipping line 16750: expected 48 fields, saw 49\\nSkipping line 16751: expected 48 fields, saw 49\\nSkipping line 16752: expected 48 fields, saw 49\\nSkipping line 16753: expected 48 fields, saw 49\\nSkipping line 17318: expected 48 fields, saw 49\\nSkipping line 17319: expected 48 fields, saw 49\\nSkipping line 17766: expected 48 fields, saw 49\\nSkipping line 17767: expected 48 fields, saw 49\\nSkipping line 18000: expected 48 fields, saw 52\\nSkipping line 18001: expected 48 fields, saw 52\\nSkipping line 18308: expected 48 fields, saw 51\\nSkipping line 19223: expected 48 fields, saw 52\\nSkipping line 19224: expected 48 fields, saw 52\\n'\n"
     ]
    }
   ],
   "source": [
    "womens_shoes_1 = pd.read_csv('C:/Users/Aakash Atnoorkar/Documents/ADM/Final Project/Datafiniti_Womens_Shoes_1.csv')\n",
    "womens_shoes_2 = pd.read_csv('C:/Users/Aakash Atnoorkar/Documents/ADM/Final Project/Datafiniti_Womens_Shoes_2.csv')\n",
    "#womens_shoes_3 = pd.read_csv('C:/Users/Aakash Atnoorkar/Documents/ADM/Final Project/Datafiniti_Womens_Shoes_3.csv')\n",
    "mens_shoes = pd.read_csv('Datafiniti_Mens_Shoes.csv', error_bad_lines=False)"
   ]
  },
  {
   "cell_type": "code",
   "execution_count": 74,
   "id": "instrumental-graduation",
   "metadata": {},
   "outputs": [],
   "source": [
    "womens_shoes_1 = womens_shoes_1[['id', 'brand', 'imageURLs', 'name', 'prices.amountMax', 'prices.amountMin', 'prices.color', 'prices.dateSeen', 'prices.size']]\n",
    "womens_shoes_2 = womens_shoes_2[['id', 'brand', 'imageURLs', 'name', 'prices.amountMax', 'prices.amountMin', 'prices.color', 'prices.dateSeen', 'prices.size']]\n",
    "#womens_shoes_3 = womens_shoes_3[['id', 'brand', 'imageURLs', 'name', 'prices.amountMax', 'prices.amountMin', 'prices.color', 'prices.dateSeen', 'prices.size']]\n",
    "mens_shoes = mens_shoes[['id', 'brand', 'imageURLs', 'name', 'prices.amountMax', 'prices.amountMin', 'prices.color', 'prices.dateSeen', 'prices.size']]\n",
    "\n",
    "womens_shoes_1['gender'] = 'F'\n",
    "womens_shoes_2['gender'] = 'F'\n",
    "mens_shoes['gender'] = 'M'"
   ]
  },
  {
   "cell_type": "code",
   "execution_count": 108,
   "id": "exceptional-exclusion",
   "metadata": {},
   "outputs": [],
   "source": [
    "filtered_shoes = womens_shoes_1.dropna(how='any',axis=0)\n",
    "filtered_shoes = filtered_shoes.append(womens_shoes_2.dropna(how='any',axis=0))\n",
    "#filtered_shoes = filtered_shoes.append(womens_shoes_3[womens_shoes_3[['imageURLs', 'prices.dateSeen']].notnull().all(1)])\n",
    "filtered_shoes = filtered_shoes.append(mens_shoes.dropna(how='any',axis=0))"
   ]
  },
  {
   "cell_type": "code",
   "execution_count": 119,
   "id": "round-retro",
   "metadata": {},
   "outputs": [
    {
     "data": {
      "text/plain": [
       "13284"
      ]
     },
     "execution_count": 119,
     "metadata": {},
     "output_type": "execute_result"
    }
   ],
   "source": [
    "#filtered_shoes = filtered_shoes.dropna(how='any',axis=0) \n",
    "filtered_shoes.shape[0]"
   ]
  },
  {
   "cell_type": "code",
   "execution_count": 121,
   "id": "portable-toner",
   "metadata": {},
   "outputs": [],
   "source": [
    "filtered_shoes.to_csv('filtered_shoes.csv')"
   ]
  },
  {
   "cell_type": "code",
   "execution_count": null,
   "id": "wicked-opinion",
   "metadata": {},
   "outputs": [],
   "source": []
  },
  {
   "cell_type": "code",
   "execution_count": 110,
   "id": "piano-component",
   "metadata": {},
   "outputs": [],
   "source": [
    "filtered_shoes['prices.size'] = filtered_shoes['prices.size'].str.split('/').str[0]"
   ]
  },
  {
   "cell_type": "code",
   "execution_count": 111,
   "id": "arbitrary-drive",
   "metadata": {
    "scrolled": true
   },
   "outputs": [
    {
     "name": "stderr",
     "output_type": "stream",
     "text": [
      "<ipython-input-111-be9202a5dfa9>:1: FutureWarning: The default value of regex will change from True to False in a future version.\n",
      "  filtered_shoes['prices.size'] = filtered_shoes['prices.size'].str.replace('[a-zA-Z]', '')\n"
     ]
    }
   ],
   "source": [
    "filtered_shoes['prices.size'] = filtered_shoes['prices.size'].str.replace('[a-zA-Z]', '')"
   ]
  },
  {
   "cell_type": "code",
   "execution_count": 117,
   "id": "rough-continent",
   "metadata": {},
   "outputs": [],
   "source": [
    "filtered_shoes['prices.size'] = filtered_shoes['prices.size'].str.split('-').str[0]\n",
    "filtered_shoes['prices.size'] = filtered_shoes['prices.size'].str.lstrip()\n",
    "#filtered_shoes['prices.size'] = filtered_shoes['prices.size'].str.split(' ').str[0]"
   ]
  },
  {
   "cell_type": "code",
   "execution_count": 123,
   "id": "liable-pride",
   "metadata": {},
   "outputs": [],
   "source": [
    "filtered_shoes = pd.read_csv('filtered_shoes_cleaned.csv')"
   ]
  },
  {
   "cell_type": "code",
   "execution_count": 126,
   "id": "closing-collins",
   "metadata": {},
   "outputs": [],
   "source": [
    "filtered_shoes['prices.dateSeen'] = filtered_shoes['prices.dateSeen'].str.split(',')\n",
    "filtered_shoes = filtered_shoes.explode('prices.dateSeen')"
   ]
  },
  {
   "cell_type": "code",
   "execution_count": 131,
   "id": "solved-pride",
   "metadata": {},
   "outputs": [],
   "source": [
    "filtered_shoes['prices.dateSeen'] = filtered_shoes['prices.dateSeen'].apply(pd.to_datetime)"
   ]
  },
  {
   "cell_type": "code",
   "execution_count": 153,
   "id": "helpful-ceremony",
   "metadata": {},
   "outputs": [],
   "source": [
    "filtered_shoes.to_csv('filtered_shoes_1.csv')"
   ]
  },
  {
   "cell_type": "code",
   "execution_count": 132,
   "id": "controversial-december",
   "metadata": {},
   "outputs": [],
   "source": [
    "men = filtered_shoes[filtered_shoes['gender'] == 'M']\n",
    "women = filtered_shoes[filtered_shoes['gender'] == 'F']"
   ]
  },
  {
   "cell_type": "code",
   "execution_count": 135,
   "id": "current-catch",
   "metadata": {},
   "outputs": [],
   "source": [
    "men_max_date = men['prices.dateSeen'].max()\n",
    "women_max_date = women['prices.dateSeen'].max()"
   ]
  },
  {
   "cell_type": "code",
   "execution_count": 149,
   "id": "assured-gossip",
   "metadata": {
    "scrolled": false
   },
   "outputs": [
    {
     "name": "stderr",
     "output_type": "stream",
     "text": [
      "<ipython-input-149-22f5b61f4b65>:2: SettingWithCopyWarning: \n",
      "A value is trying to be set on a copy of a slice from a DataFrame.\n",
      "Try using .loc[row_indexer,col_indexer] = value instead\n",
      "\n",
      "See the caveats in the documentation: https://pandas.pydata.org/pandas-docs/stable/user_guide/indexing.html#returning-a-view-versus-a-copy\n",
      "  men['dateDiff'] = (men_max_date - men['prices.dateSeen']).astype('timedelta64[D]')\n",
      "<ipython-input-149-22f5b61f4b65>:3: SettingWithCopyWarning: \n",
      "A value is trying to be set on a copy of a slice from a DataFrame.\n",
      "Try using .loc[row_indexer,col_indexer] = value instead\n",
      "\n",
      "See the caveats in the documentation: https://pandas.pydata.org/pandas-docs/stable/user_guide/indexing.html#returning-a-view-versus-a-copy\n",
      "  women['dateDiff'] = (women_max_date - women['prices.dateSeen']).astype('timedelta64[D]')\n"
     ]
    }
   ],
   "source": [
    "#(men_max_date - men.iloc[0]['prices.dateSeen']).days\n",
    "men['dateDiff'] = (men_max_date - men['prices.dateSeen']).astype('timedelta64[D]')\n",
    "women['dateDiff'] = (women_max_date - women['prices.dateSeen']).astype('timedelta64[D]')"
   ]
  },
  {
   "cell_type": "code",
   "execution_count": 150,
   "id": "engaged-disclosure",
   "metadata": {
    "scrolled": true
   },
   "outputs": [],
   "source": [
    "filtered_shoes = men.append(women)"
   ]
  },
  {
   "cell_type": "code",
   "execution_count": 152,
   "id": "significant-directive",
   "metadata": {},
   "outputs": [],
   "source": [
    "filtered_shoes['avgPrice'] = (filtered_shoes['prices.amountMax'].astype(float) - filtered_shoes['prices.amountMin'].astype(float))/2"
   ]
  },
  {
   "cell_type": "code",
   "execution_count": 154,
   "id": "native-peripheral",
   "metadata": {},
   "outputs": [],
   "source": [
    "filtered_shoes.to_csv('filtered_shoes_1.csv')"
   ]
  }
 ],
 "metadata": {
  "kernelspec": {
   "display_name": "Python 3",
   "language": "python",
   "name": "python3"
  },
  "language_info": {
   "codemirror_mode": {
    "name": "ipython",
    "version": 3
   },
   "file_extension": ".py",
   "mimetype": "text/x-python",
   "name": "python",
   "nbconvert_exporter": "python",
   "pygments_lexer": "ipython3",
   "version": "3.8.8"
  }
 },
 "nbformat": 4,
 "nbformat_minor": 5
}
