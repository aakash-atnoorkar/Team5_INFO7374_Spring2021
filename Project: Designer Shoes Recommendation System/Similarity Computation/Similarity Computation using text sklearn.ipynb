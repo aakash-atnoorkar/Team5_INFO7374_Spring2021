{
 "cells": [
  {
   "cell_type": "code",
   "execution_count": 95,
   "id": "adopted-marijuana",
   "metadata": {},
   "outputs": [],
   "source": [
    "import pandas as pd\n",
    "import urllib.request\n",
    "import os\n",
    "from sklearn.metrics.pairwise import cosine_similarity\n",
    "from sklearn.feature_extraction.text import CountVectorizer\n",
    "import numpy as np"
   ]
  },
  {
   "cell_type": "code",
   "execution_count": 8,
   "id": "impressed-paste",
   "metadata": {
    "scrolled": true
   },
   "outputs": [],
   "source": [
    "sample_filtered = pd.read_csv('sample_filtered.csv')"
   ]
  },
  {
   "cell_type": "code",
   "execution_count": 9,
   "id": "photographic-oklahoma",
   "metadata": {},
   "outputs": [
    {
     "data": {
      "text/plain": [
       "Index(['Unnamed: 0', 'id', 'brand', 'imageURLs', 'name', 'prices.amountMax',\n",
       "       'prices.amountMin', 'prices.color', 'prices.dateSeen', 'prices.size',\n",
       "       'gender', 'dateDiff', 'avgPrice', 'image_url'],\n",
       "      dtype='object')"
      ]
     },
     "execution_count": 9,
     "metadata": {},
     "output_type": "execute_result"
    }
   ],
   "source": [
    "sample_filtered.columns"
   ]
  },
  {
   "cell_type": "code",
   "execution_count": 10,
   "id": "introductory-utility",
   "metadata": {},
   "outputs": [],
   "source": [
    "base_dir = os.path.join(os.getcwd())\n",
    "images_dir = os.path.join(base_dir, 'images')"
   ]
  },
  {
   "cell_type": "code",
   "execution_count": 17,
   "id": "greenhouse-flour",
   "metadata": {
    "scrolled": true
   },
   "outputs": [
    {
     "data": {
      "text/html": [
       "<div>\n",
       "<style scoped>\n",
       "    .dataframe tbody tr th:only-of-type {\n",
       "        vertical-align: middle;\n",
       "    }\n",
       "\n",
       "    .dataframe tbody tr th {\n",
       "        vertical-align: top;\n",
       "    }\n",
       "\n",
       "    .dataframe thead th {\n",
       "        text-align: right;\n",
       "    }\n",
       "</style>\n",
       "<table border=\"1\" class=\"dataframe\">\n",
       "  <thead>\n",
       "    <tr style=\"text-align: right;\">\n",
       "      <th></th>\n",
       "      <th>id</th>\n",
       "      <th>brand</th>\n",
       "      <th>name</th>\n",
       "    </tr>\n",
       "  </thead>\n",
       "  <tbody>\n",
       "    <tr>\n",
       "      <th>0</th>\n",
       "      <td>AVpe8Pi0ilAPnD_xRYTs</td>\n",
       "      <td>Fireside Casuals</td>\n",
       "      <td>Men's Camouflage Espadrille Slipper</td>\n",
       "    </tr>\n",
       "    <tr>\n",
       "      <th>1</th>\n",
       "      <td>AVpfNujoilAPnD_xXXc1</td>\n",
       "      <td>MUK LUKS</td>\n",
       "      <td>Muk Luks Men's Fairisle Full Foot Slipper</td>\n",
       "    </tr>\n",
       "    <tr>\n",
       "      <th>2</th>\n",
       "      <td>AVpfEFx41cnluZ0-dGzz</td>\n",
       "      <td>Daxx</td>\n",
       "      <td>Daxx Men's Topstitched Hardware Accent Loafers</td>\n",
       "    </tr>\n",
       "    <tr>\n",
       "      <th>3</th>\n",
       "      <td>AVpfOFMeilAPnD_xXe5b</td>\n",
       "      <td>Genuine Dickies</td>\n",
       "      <td>Genuine Dickies Jobrated Maxx Waterproof Work ...</td>\n",
       "    </tr>\n",
       "    <tr>\n",
       "      <th>4</th>\n",
       "      <td>AVpfOFMeilAPnD_xXe5b</td>\n",
       "      <td>Genuine Dickies</td>\n",
       "      <td>Genuine Dickies Jobrated Maxx Waterproof Work ...</td>\n",
       "    </tr>\n",
       "    <tr>\n",
       "      <th>...</th>\n",
       "      <td>...</td>\n",
       "      <td>...</td>\n",
       "      <td>...</td>\n",
       "    </tr>\n",
       "    <tr>\n",
       "      <th>60085</th>\n",
       "      <td>AVpij_dBilAPnD_xFV8S</td>\n",
       "      <td>easy street</td>\n",
       "      <td>Easy Street Natara Women's Sandals</td>\n",
       "    </tr>\n",
       "    <tr>\n",
       "      <th>60086</th>\n",
       "      <td>AVpij_dBilAPnD_xFV8S</td>\n",
       "      <td>easy street</td>\n",
       "      <td>Easy Street Natara Women's Sandals</td>\n",
       "    </tr>\n",
       "    <tr>\n",
       "      <th>60087</th>\n",
       "      <td>AVpij_dBilAPnD_xFV8S</td>\n",
       "      <td>easy street</td>\n",
       "      <td>Easy Street Natara Women's Sandals</td>\n",
       "    </tr>\n",
       "    <tr>\n",
       "      <th>60088</th>\n",
       "      <td>AVpij_dBilAPnD_xFV8S</td>\n",
       "      <td>easy street</td>\n",
       "      <td>Easy Street Natara Women's Sandals</td>\n",
       "    </tr>\n",
       "    <tr>\n",
       "      <th>60089</th>\n",
       "      <td>AVpij_dBilAPnD_xFV8S</td>\n",
       "      <td>easy street</td>\n",
       "      <td>Easy Street Natara Women's Sandals</td>\n",
       "    </tr>\n",
       "  </tbody>\n",
       "</table>\n",
       "<p>60090 rows × 3 columns</p>\n",
       "</div>"
      ],
      "text/plain": [
       "                         id             brand  \\\n",
       "0      AVpe8Pi0ilAPnD_xRYTs  Fireside Casuals   \n",
       "1      AVpfNujoilAPnD_xXXc1          MUK LUKS   \n",
       "2      AVpfEFx41cnluZ0-dGzz              Daxx   \n",
       "3      AVpfOFMeilAPnD_xXe5b   Genuine Dickies   \n",
       "4      AVpfOFMeilAPnD_xXe5b   Genuine Dickies   \n",
       "...                     ...               ...   \n",
       "60085  AVpij_dBilAPnD_xFV8S       easy street   \n",
       "60086  AVpij_dBilAPnD_xFV8S       easy street   \n",
       "60087  AVpij_dBilAPnD_xFV8S       easy street   \n",
       "60088  AVpij_dBilAPnD_xFV8S       easy street   \n",
       "60089  AVpij_dBilAPnD_xFV8S       easy street   \n",
       "\n",
       "                                                    name  \n",
       "0                    Men's Camouflage Espadrille Slipper  \n",
       "1              Muk Luks Men's Fairisle Full Foot Slipper  \n",
       "2         Daxx Men's Topstitched Hardware Accent Loafers  \n",
       "3      Genuine Dickies Jobrated Maxx Waterproof Work ...  \n",
       "4      Genuine Dickies Jobrated Maxx Waterproof Work ...  \n",
       "...                                                  ...  \n",
       "60085                 Easy Street Natara Women's Sandals  \n",
       "60086                 Easy Street Natara Women's Sandals  \n",
       "60087                 Easy Street Natara Women's Sandals  \n",
       "60088                 Easy Street Natara Women's Sandals  \n",
       "60089                 Easy Street Natara Women's Sandals  \n",
       "\n",
       "[60090 rows x 3 columns]"
      ]
     },
     "execution_count": 17,
     "metadata": {},
     "output_type": "execute_result"
    }
   ],
   "source": [
    "shoes_tfidf = sample_filtered[['id', 'brand', 'name']]\n",
    "shoes_tfidf"
   ]
  },
  {
   "cell_type": "code",
   "execution_count": 18,
   "id": "banned-deviation",
   "metadata": {},
   "outputs": [
    {
     "name": "stderr",
     "output_type": "stream",
     "text": [
      "<ipython-input-18-17d45ebbe204>:1: SettingWithCopyWarning: \n",
      "A value is trying to be set on a copy of a slice from a DataFrame.\n",
      "Try using .loc[row_indexer,col_indexer] = value instead\n",
      "\n",
      "See the caveats in the documentation: https://pandas.pydata.org/pandas-docs/stable/user_guide/indexing.html#returning-a-view-versus-a-copy\n",
      "  shoes_tfidf['brand'] = shoes_tfidf['brand'].str.lower()\n",
      "<ipython-input-18-17d45ebbe204>:2: SettingWithCopyWarning: \n",
      "A value is trying to be set on a copy of a slice from a DataFrame.\n",
      "Try using .loc[row_indexer,col_indexer] = value instead\n",
      "\n",
      "See the caveats in the documentation: https://pandas.pydata.org/pandas-docs/stable/user_guide/indexing.html#returning-a-view-versus-a-copy\n",
      "  shoes_tfidf['name'] = shoes_tfidf['name'].str.lower()\n"
     ]
    }
   ],
   "source": [
    "shoes_tfidf['brand'] = shoes_tfidf['brand'].str.lower()\n",
    "shoes_tfidf['name'] = shoes_tfidf['name'].str.lower()"
   ]
  },
  {
   "cell_type": "code",
   "execution_count": 45,
   "id": "rocky-jesus",
   "metadata": {
    "scrolled": true
   },
   "outputs": [
    {
     "name": "stderr",
     "output_type": "stream",
     "text": [
      "<ipython-input-45-0c3130afc102>:2: SettingWithCopyWarning: \n",
      "A value is trying to be set on a copy of a slice from a DataFrame.\n",
      "Try using .loc[row_indexer,col_indexer] = value instead\n",
      "\n",
      "See the caveats in the documentation: https://pandas.pydata.org/pandas-docs/stable/user_guide/indexing.html#returning-a-view-versus-a-copy\n",
      "  shoes_tfidf['bag_of_words'] = shoes_tfidf[\"brand\"] + ' ' +shoes_tfidf[\"name\"]\n"
     ]
    }
   ],
   "source": [
    "shoes_tfidf.drop(columns=['bag_of_words'])\n",
    "shoes_tfidf['bag_of_words'] = shoes_tfidf[\"brand\"] + ' ' +shoes_tfidf[\"name\"]"
   ]
  },
  {
   "cell_type": "code",
   "execution_count": 47,
   "id": "secret-boring",
   "metadata": {
    "scrolled": false
   },
   "outputs": [
    {
     "name": "stderr",
     "output_type": "stream",
     "text": [
      "<ipython-input-47-b1cceef2eabf>:3: SettingWithCopyWarning: \n",
      "A value is trying to be set on a copy of a slice from a DataFrame.\n",
      "Try using .loc[row_indexer,col_indexer] = value instead\n",
      "\n",
      "See the caveats in the documentation: https://pandas.pydata.org/pandas-docs/stable/user_guide/indexing.html#returning-a-view-versus-a-copy\n",
      "  shoes_tfidf['bag_of_words'] = shoes_tfidf.apply(lambda x :' '.join(set(x['bag_of_words'].split())), axis=1)\n"
     ]
    }
   ],
   "source": [
    "#shoes_tfidf['bag_of_words'] = shoes_tfidf.apply(lambda x : ' '.join(set(x['bag_of_words'].str.split())))\n",
    "\n",
    "shoes_tfidf['bag_of_words'] = shoes_tfidf.apply(lambda x :' '.join(set(x['bag_of_words'].split())), axis=1)"
   ]
  },
  {
   "cell_type": "code",
   "execution_count": 61,
   "id": "expired-friday",
   "metadata": {},
   "outputs": [],
   "source": [
    "#Taking sample as the cosine matrix taking 26GB space and not able to handle the data\n",
    "shoes_tfidf_sample = shoes_tfidf[:20000]"
   ]
  },
  {
   "cell_type": "code",
   "execution_count": 66,
   "id": "above-prerequisite",
   "metadata": {},
   "outputs": [
    {
     "data": {
      "text/html": [
       "<div>\n",
       "<style scoped>\n",
       "    .dataframe tbody tr th:only-of-type {\n",
       "        vertical-align: middle;\n",
       "    }\n",
       "\n",
       "    .dataframe tbody tr th {\n",
       "        vertical-align: top;\n",
       "    }\n",
       "\n",
       "    .dataframe thead th {\n",
       "        text-align: right;\n",
       "    }\n",
       "</style>\n",
       "<table border=\"1\" class=\"dataframe\">\n",
       "  <thead>\n",
       "    <tr style=\"text-align: right;\">\n",
       "      <th></th>\n",
       "      <th>id</th>\n",
       "      <th>brand</th>\n",
       "      <th>name</th>\n",
       "      <th>bag_of_words</th>\n",
       "    </tr>\n",
       "  </thead>\n",
       "  <tbody>\n",
       "    <tr>\n",
       "      <th>0</th>\n",
       "      <td>AVpe8Pi0ilAPnD_xRYTs</td>\n",
       "      <td>fireside casuals</td>\n",
       "      <td>men's camouflage espadrille slipper</td>\n",
       "      <td>camouflage men's fireside slipper espadrille c...</td>\n",
       "    </tr>\n",
       "    <tr>\n",
       "      <th>1</th>\n",
       "      <td>AVpfNujoilAPnD_xXXc1</td>\n",
       "      <td>muk luks</td>\n",
       "      <td>muk luks men's fairisle full foot slipper</td>\n",
       "      <td>men's luks fairisle foot muk slipper full</td>\n",
       "    </tr>\n",
       "    <tr>\n",
       "      <th>2</th>\n",
       "      <td>AVpfEFx41cnluZ0-dGzz</td>\n",
       "      <td>daxx</td>\n",
       "      <td>daxx men's topstitched hardware accent loafers</td>\n",
       "      <td>accent hardware men's topstitched loafers daxx</td>\n",
       "    </tr>\n",
       "    <tr>\n",
       "      <th>3</th>\n",
       "      <td>AVpfOFMeilAPnD_xXe5b</td>\n",
       "      <td>genuine dickies</td>\n",
       "      <td>genuine dickies jobrated maxx waterproof work ...</td>\n",
       "      <td>genuine jobrated work maxx boot waterproof dic...</td>\n",
       "    </tr>\n",
       "    <tr>\n",
       "      <th>4</th>\n",
       "      <td>AVpfOFMeilAPnD_xXe5b</td>\n",
       "      <td>genuine dickies</td>\n",
       "      <td>genuine dickies jobrated maxx waterproof work ...</td>\n",
       "      <td>genuine jobrated work maxx boot waterproof dic...</td>\n",
       "    </tr>\n",
       "    <tr>\n",
       "      <th>...</th>\n",
       "      <td>...</td>\n",
       "      <td>...</td>\n",
       "      <td>...</td>\n",
       "      <td>...</td>\n",
       "    </tr>\n",
       "    <tr>\n",
       "      <th>19995</th>\n",
       "      <td>AV-nbnIEKZqtpbFMSzYa</td>\n",
       "      <td>simply vera vera wang</td>\n",
       "      <td>simply vera vera wang women's all-over stretch...</td>\n",
       "      <td>women's wang stretch simply vera heels all-over</td>\n",
       "    </tr>\n",
       "    <tr>\n",
       "      <th>19996</th>\n",
       "      <td>AV-nbnIEKZqtpbFMSzYa</td>\n",
       "      <td>simply vera vera wang</td>\n",
       "      <td>simply vera vera wang women's all-over stretch...</td>\n",
       "      <td>women's wang stretch simply vera heels all-over</td>\n",
       "    </tr>\n",
       "    <tr>\n",
       "      <th>19997</th>\n",
       "      <td>AV-nbnIEKZqtpbFMSzYa</td>\n",
       "      <td>simply vera vera wang</td>\n",
       "      <td>simply vera vera wang women's all-over stretch...</td>\n",
       "      <td>women's wang stretch simply vera heels all-over</td>\n",
       "    </tr>\n",
       "    <tr>\n",
       "      <th>19998</th>\n",
       "      <td>AV-nbnIEKZqtpbFMSzYa</td>\n",
       "      <td>simply vera vera wang</td>\n",
       "      <td>simply vera vera wang women's all-over stretch...</td>\n",
       "      <td>women's wang stretch simply vera heels all-over</td>\n",
       "    </tr>\n",
       "    <tr>\n",
       "      <th>19999</th>\n",
       "      <td>AV-nbnIEKZqtpbFMSzYa</td>\n",
       "      <td>simply vera vera wang</td>\n",
       "      <td>simply vera vera wang women's all-over stretch...</td>\n",
       "      <td>women's wang stretch simply vera heels all-over</td>\n",
       "    </tr>\n",
       "  </tbody>\n",
       "</table>\n",
       "<p>20000 rows × 4 columns</p>\n",
       "</div>"
      ],
      "text/plain": [
       "                         id                  brand  \\\n",
       "0      AVpe8Pi0ilAPnD_xRYTs       fireside casuals   \n",
       "1      AVpfNujoilAPnD_xXXc1               muk luks   \n",
       "2      AVpfEFx41cnluZ0-dGzz                   daxx   \n",
       "3      AVpfOFMeilAPnD_xXe5b        genuine dickies   \n",
       "4      AVpfOFMeilAPnD_xXe5b        genuine dickies   \n",
       "...                     ...                    ...   \n",
       "19995  AV-nbnIEKZqtpbFMSzYa  simply vera vera wang   \n",
       "19996  AV-nbnIEKZqtpbFMSzYa  simply vera vera wang   \n",
       "19997  AV-nbnIEKZqtpbFMSzYa  simply vera vera wang   \n",
       "19998  AV-nbnIEKZqtpbFMSzYa  simply vera vera wang   \n",
       "19999  AV-nbnIEKZqtpbFMSzYa  simply vera vera wang   \n",
       "\n",
       "                                                    name  \\\n",
       "0                    men's camouflage espadrille slipper   \n",
       "1              muk luks men's fairisle full foot slipper   \n",
       "2         daxx men's topstitched hardware accent loafers   \n",
       "3      genuine dickies jobrated maxx waterproof work ...   \n",
       "4      genuine dickies jobrated maxx waterproof work ...   \n",
       "...                                                  ...   \n",
       "19995  simply vera vera wang women's all-over stretch...   \n",
       "19996  simply vera vera wang women's all-over stretch...   \n",
       "19997  simply vera vera wang women's all-over stretch...   \n",
       "19998  simply vera vera wang women's all-over stretch...   \n",
       "19999  simply vera vera wang women's all-over stretch...   \n",
       "\n",
       "                                            bag_of_words  \n",
       "0      camouflage men's fireside slipper espadrille c...  \n",
       "1              men's luks fairisle foot muk slipper full  \n",
       "2         accent hardware men's topstitched loafers daxx  \n",
       "3      genuine jobrated work maxx boot waterproof dic...  \n",
       "4      genuine jobrated work maxx boot waterproof dic...  \n",
       "...                                                  ...  \n",
       "19995    women's wang stretch simply vera heels all-over  \n",
       "19996    women's wang stretch simply vera heels all-over  \n",
       "19997    women's wang stretch simply vera heels all-over  \n",
       "19998    women's wang stretch simply vera heels all-over  \n",
       "19999    women's wang stretch simply vera heels all-over  \n",
       "\n",
       "[20000 rows x 4 columns]"
      ]
     },
     "execution_count": 66,
     "metadata": {},
     "output_type": "execute_result"
    }
   ],
   "source": [
    "shoes_tfidf_sample"
   ]
  },
  {
   "cell_type": "code",
   "execution_count": 62,
   "id": "partial-cyprus",
   "metadata": {},
   "outputs": [],
   "source": [
    "count = CountVectorizer()\n",
    "count_matrix = count.fit_transform(shoes_tfidf_sample['bag_of_words'])\n",
    "\n",
    "indices = pd.Series(shoes_tfidf_sample.index)"
   ]
  },
  {
   "cell_type": "code",
   "execution_count": 63,
   "id": "filled-native",
   "metadata": {
    "scrolled": true
   },
   "outputs": [
    {
     "data": {
      "text/plain": [
       "<20000x1092 sparse matrix of type '<class 'numpy.int64'>'\n",
       "\twith 139960 stored elements in Compressed Sparse Row format>"
      ]
     },
     "execution_count": 63,
     "metadata": {},
     "output_type": "execute_result"
    }
   ],
   "source": [
    "indices\n",
    "count_matrix"
   ]
  },
  {
   "cell_type": "code",
   "execution_count": 64,
   "id": "involved-planner",
   "metadata": {},
   "outputs": [],
   "source": [
    "cosine_sim = cosine_similarity(count_matrix, count_matrix)"
   ]
  },
  {
   "cell_type": "code",
   "execution_count": 65,
   "id": "enormous-draft",
   "metadata": {},
   "outputs": [
    {
     "data": {
      "text/plain": [
       "(20000, 20000)"
      ]
     },
     "execution_count": 65,
     "metadata": {},
     "output_type": "execute_result"
    }
   ],
   "source": [
    "cosine_sim.shape"
   ]
  },
  {
   "cell_type": "code",
   "execution_count": 72,
   "id": "geological-university",
   "metadata": {},
   "outputs": [
    {
     "data": {
      "text/plain": [
       "3"
      ]
     },
     "execution_count": 72,
     "metadata": {},
     "output_type": "execute_result"
    }
   ],
   "source": [
    "shoes_tfidf_sample[shoes_tfidf_sample['name'] == 'genuine dickies'].index[0]"
   ]
  },
  {
   "cell_type": "code",
   "execution_count": 78,
   "id": "ultimate-hardware",
   "metadata": {},
   "outputs": [],
   "source": [
    "def get_recommendations(name):\n",
    "    recommended_products = []\n",
    "    index = shoes_tfidf_sample[shoes_tfidf_sample['name'] == name].index[0]\n",
    "    \n",
    "    score_series = pd.Series(cosine_sim[index]).sort_values(ascending = False)\n",
    "    #print(score_series)\n",
    "    top_similar_products = list(score_series.iloc[1:5].index)\n",
    "    \n",
    "    for i in top_similar_products:\n",
    "        recommended_products.append(shoes_tfidf_sample['id'][i])\n",
    "        \n",
    "    return recommended_products"
   ]
  },
  {
   "cell_type": "code",
   "execution_count": 79,
   "id": "adequate-architect",
   "metadata": {},
   "outputs": [
    {
     "name": "stdout",
     "output_type": "stream",
     "text": [
      "['AV-9hpHjYSSHbkXwpyGV', 'AV-9hpHjYSSHbkXwpyGV', 'AV-9hpHjYSSHbkXwpyGV', 'AV-9hpHjYSSHbkXwpyGV']\n"
     ]
    }
   ],
   "source": [
    "print(get_recommendations('daxx men\\'s topstitched hardware accent loafers'))"
   ]
  },
  {
   "cell_type": "code",
   "execution_count": 80,
   "id": "champion-benjamin",
   "metadata": {},
   "outputs": [],
   "source": [
    "shoes_tfidf_group = shoes_tfidf.groupby(['id','brand', 'name']).size().reset_index().rename(columns={0:'count'})"
   ]
  },
  {
   "cell_type": "code",
   "execution_count": 82,
   "id": "outer-account",
   "metadata": {},
   "outputs": [],
   "source": [
    "shoes_tfidf_group = shoes_tfidf_group.drop(columns=['count'])"
   ]
  },
  {
   "cell_type": "code",
   "execution_count": 86,
   "id": "popular-scanner",
   "metadata": {},
   "outputs": [],
   "source": [
    "shoes_tfidf_group = shoes_tfidf_group.set_index('id')\n",
    "shoes_tfidf_group['bag_of_words'] = shoes_tfidf_group[\"brand\"] + ' ' +shoes_tfidf_group[\"name\"]\n",
    "shoes_tfidf_group['bag_of_words'] = shoes_tfidf_group.apply(lambda x :' '.join(set(x['bag_of_words'].split())), axis=1)"
   ]
  },
  {
   "cell_type": "code",
   "execution_count": 87,
   "id": "cellular-folks",
   "metadata": {},
   "outputs": [],
   "source": [
    "count = CountVectorizer()\n",
    "count_matrix = count.fit_transform(shoes_tfidf_group['bag_of_words'])\n",
    "\n",
    "indices = pd.Series(shoes_tfidf_group.index)"
   ]
  },
  {
   "cell_type": "code",
   "execution_count": 101,
   "id": "meaningful-sixth",
   "metadata": {},
   "outputs": [],
   "source": [
    "indices.to_csv('indices.csv')"
   ]
  },
  {
   "cell_type": "code",
   "execution_count": 89,
   "id": "controlled-sleeping",
   "metadata": {},
   "outputs": [],
   "source": [
    "cosine_sim = cosine_similarity(count_matrix, count_matrix)"
   ]
  },
  {
   "cell_type": "code",
   "execution_count": 93,
   "id": "infrared-kidney",
   "metadata": {},
   "outputs": [
    {
     "data": {
      "text/plain": [
       "array([[1.        , 0.1767767 , 0.47434165, ..., 0.11785113, 0.23570226,\n",
       "        0.2236068 ],\n",
       "       [0.1767767 , 1.        , 0.2236068 , ..., 0.        , 0.16666667,\n",
       "        0.15811388],\n",
       "       [0.47434165, 0.2236068 , 1.        , ..., 0.1490712 , 0.2981424 ,\n",
       "        0.28284271],\n",
       "       ...,\n",
       "       [0.11785113, 0.        , 0.1490712 , ..., 1.        , 0.        ,\n",
       "        0.10540926],\n",
       "       [0.23570226, 0.16666667, 0.2981424 , ..., 0.        , 1.        ,\n",
       "        0.21081851],\n",
       "       [0.2236068 , 0.15811388, 0.28284271, ..., 0.10540926, 0.21081851,\n",
       "        1.        ]])"
      ]
     },
     "execution_count": 93,
     "metadata": {},
     "output_type": "execute_result"
    }
   ],
   "source": [
    "cosine_sim"
   ]
  },
  {
   "cell_type": "code",
   "execution_count": 109,
   "id": "automatic-assembly",
   "metadata": {},
   "outputs": [],
   "source": [
    "indices = pd.read_csv('indices.csv')\n",
    "def get_recommendations(id):\n",
    "    recommended_products = []\n",
    "    index = indices[indices['id'] == id].index[0]\n",
    "    print(index)\n",
    "    score_series = pd.Series(cosine_sim[index]).sort_values(ascending = False)\n",
    "    #print(score_series)\n",
    "    top_similar_products = list(score_series.iloc[1:5].index)\n",
    "    \n",
    "    for i in top_similar_products:\n",
    "        recommended_products.append(list(shoes_tfidf_group.index)[i])\n",
    "        \n",
    "    return recommended_products"
   ]
  },
  {
   "cell_type": "code",
   "execution_count": 114,
   "id": "deluxe-chase",
   "metadata": {},
   "outputs": [
    {
     "name": "stdout",
     "output_type": "stream",
     "text": [
      "1\n",
      "['AV_X3MvzHh53nbDRAY0z', 'AV-nb4rjuC1rwyj_gebo', 'AV-9hsUluC1rwyj_g2eA', 'AV_EdiPRuC1rwyj_hCLM']\n"
     ]
    }
   ],
   "source": [
    "print(get_recommendations('AV-9hpHjYSSHbkXwpyGV'))"
   ]
  },
  {
   "cell_type": "code",
   "execution_count": 111,
   "id": "yellow-transport",
   "metadata": {},
   "outputs": [
    {
     "data": {
      "text/html": [
       "<div>\n",
       "<style scoped>\n",
       "    .dataframe tbody tr th:only-of-type {\n",
       "        vertical-align: middle;\n",
       "    }\n",
       "\n",
       "    .dataframe tbody tr th {\n",
       "        vertical-align: top;\n",
       "    }\n",
       "\n",
       "    .dataframe thead th {\n",
       "        text-align: right;\n",
       "    }\n",
       "</style>\n",
       "<table border=\"1\" class=\"dataframe\">\n",
       "  <thead>\n",
       "    <tr style=\"text-align: right;\">\n",
       "      <th></th>\n",
       "      <th>Unnamed: 0</th>\n",
       "      <th>id</th>\n",
       "    </tr>\n",
       "  </thead>\n",
       "  <tbody>\n",
       "    <tr>\n",
       "      <th>0</th>\n",
       "      <td>0</td>\n",
       "      <td>AV-9hndsuC1rwyj_g2bb</td>\n",
       "    </tr>\n",
       "    <tr>\n",
       "      <th>1</th>\n",
       "      <td>1</td>\n",
       "      <td>AV-9hpHjYSSHbkXwpyGV</td>\n",
       "    </tr>\n",
       "    <tr>\n",
       "      <th>2</th>\n",
       "      <td>2</td>\n",
       "      <td>AV-9hqJYuC1rwyj_g2c_</td>\n",
       "    </tr>\n",
       "    <tr>\n",
       "      <th>3</th>\n",
       "      <td>3</td>\n",
       "      <td>AV-9hriAuC1rwyj_g2dv</td>\n",
       "    </tr>\n",
       "    <tr>\n",
       "      <th>4</th>\n",
       "      <td>4</td>\n",
       "      <td>AV-9hsUluC1rwyj_g2eA</td>\n",
       "    </tr>\n",
       "    <tr>\n",
       "      <th>...</th>\n",
       "      <td>...</td>\n",
       "      <td>...</td>\n",
       "    </tr>\n",
       "    <tr>\n",
       "      <th>773</th>\n",
       "      <td>773</td>\n",
       "      <td>AWo0mhdH0U_gzG0he0vq</td>\n",
       "    </tr>\n",
       "    <tr>\n",
       "      <th>774</th>\n",
       "      <td>774</td>\n",
       "      <td>AWo0mknt0U_gzG0he0wP</td>\n",
       "    </tr>\n",
       "    <tr>\n",
       "      <th>775</th>\n",
       "      <td>775</td>\n",
       "      <td>AWo0mv6FAGTnQPR7rBzB</td>\n",
       "    </tr>\n",
       "    <tr>\n",
       "      <th>776</th>\n",
       "      <td>776</td>\n",
       "      <td>AWo0nACN0U_gzG0he0zJ</td>\n",
       "    </tr>\n",
       "    <tr>\n",
       "      <th>777</th>\n",
       "      <td>777</td>\n",
       "      <td>AWo0t0CTAGTnQPR7rCEj</td>\n",
       "    </tr>\n",
       "  </tbody>\n",
       "</table>\n",
       "<p>778 rows × 2 columns</p>\n",
       "</div>"
      ],
      "text/plain": [
       "     Unnamed: 0                    id\n",
       "0             0  AV-9hndsuC1rwyj_g2bb\n",
       "1             1  AV-9hpHjYSSHbkXwpyGV\n",
       "2             2  AV-9hqJYuC1rwyj_g2c_\n",
       "3             3  AV-9hriAuC1rwyj_g2dv\n",
       "4             4  AV-9hsUluC1rwyj_g2eA\n",
       "..          ...                   ...\n",
       "773         773  AWo0mhdH0U_gzG0he0vq\n",
       "774         774  AWo0mknt0U_gzG0he0wP\n",
       "775         775  AWo0mv6FAGTnQPR7rBzB\n",
       "776         776  AWo0nACN0U_gzG0he0zJ\n",
       "777         777  AWo0t0CTAGTnQPR7rCEj\n",
       "\n",
       "[778 rows x 2 columns]"
      ]
     },
     "execution_count": 111,
     "metadata": {},
     "output_type": "execute_result"
    }
   ],
   "source": [
    "indices"
   ]
  },
  {
   "cell_type": "code",
   "execution_count": 96,
   "id": "western-classic",
   "metadata": {},
   "outputs": [],
   "source": [
    "np.savetxt('cosine_sim.npz', cosine_sim)"
   ]
  },
  {
   "cell_type": "code",
   "execution_count": 100,
   "id": "excess-conspiracy",
   "metadata": {
    "scrolled": false
   },
   "outputs": [
    {
     "data": {
      "text/plain": [
       "array([[1.        , 0.1767767 , 0.47434165, ..., 0.11785113, 0.23570226,\n",
       "        0.2236068 ],\n",
       "       [0.1767767 , 1.        , 0.2236068 , ..., 0.        , 0.16666667,\n",
       "        0.15811388],\n",
       "       [0.47434165, 0.2236068 , 1.        , ..., 0.1490712 , 0.2981424 ,\n",
       "        0.28284271],\n",
       "       ...,\n",
       "       [0.11785113, 0.        , 0.1490712 , ..., 1.        , 0.        ,\n",
       "        0.10540926],\n",
       "       [0.23570226, 0.16666667, 0.2981424 , ..., 0.        , 1.        ,\n",
       "        0.21081851],\n",
       "       [0.2236068 , 0.15811388, 0.28284271, ..., 0.10540926, 0.21081851,\n",
       "        1.        ]])"
      ]
     },
     "execution_count": 100,
     "metadata": {},
     "output_type": "execute_result"
    }
   ],
   "source": [
    "vector = np.loadtxt('cosine_sim.npz')\n",
    "vector"
   ]
  },
  {
   "cell_type": "code",
   "execution_count": 134,
   "id": "forbidden-aquatic",
   "metadata": {},
   "outputs": [],
   "source": [
    "shoes_tfidf_group.to_csv('shoes_tfidf_group.csv')"
   ]
  },
  {
   "cell_type": "code",
   "execution_count": 141,
   "id": "stone-torture",
   "metadata": {
    "scrolled": true
   },
   "outputs": [
    {
     "data": {
      "text/html": [
       "<div>\n",
       "<style scoped>\n",
       "    .dataframe tbody tr th:only-of-type {\n",
       "        vertical-align: middle;\n",
       "    }\n",
       "\n",
       "    .dataframe tbody tr th {\n",
       "        vertical-align: top;\n",
       "    }\n",
       "\n",
       "    .dataframe thead th {\n",
       "        text-align: right;\n",
       "    }\n",
       "</style>\n",
       "<table border=\"1\" class=\"dataframe\">\n",
       "  <thead>\n",
       "    <tr style=\"text-align: right;\">\n",
       "      <th></th>\n",
       "      <th>id</th>\n",
       "    </tr>\n",
       "  </thead>\n",
       "  <tbody>\n",
       "    <tr>\n",
       "      <th>0</th>\n",
       "      <td>AV-9hndsuC1rwyj_g2bb</td>\n",
       "    </tr>\n",
       "    <tr>\n",
       "      <th>1</th>\n",
       "      <td>AV-9hpHjYSSHbkXwpyGV</td>\n",
       "    </tr>\n",
       "    <tr>\n",
       "      <th>2</th>\n",
       "      <td>AV-9hqJYuC1rwyj_g2c_</td>\n",
       "    </tr>\n",
       "    <tr>\n",
       "      <th>3</th>\n",
       "      <td>AV-9hriAuC1rwyj_g2dv</td>\n",
       "    </tr>\n",
       "    <tr>\n",
       "      <th>4</th>\n",
       "      <td>AV-9hsUluC1rwyj_g2eA</td>\n",
       "    </tr>\n",
       "    <tr>\n",
       "      <th>...</th>\n",
       "      <td>...</td>\n",
       "    </tr>\n",
       "    <tr>\n",
       "      <th>773</th>\n",
       "      <td>AWo0mhdH0U_gzG0he0vq</td>\n",
       "    </tr>\n",
       "    <tr>\n",
       "      <th>774</th>\n",
       "      <td>AWo0mknt0U_gzG0he0wP</td>\n",
       "    </tr>\n",
       "    <tr>\n",
       "      <th>775</th>\n",
       "      <td>AWo0mv6FAGTnQPR7rBzB</td>\n",
       "    </tr>\n",
       "    <tr>\n",
       "      <th>776</th>\n",
       "      <td>AWo0nACN0U_gzG0he0zJ</td>\n",
       "    </tr>\n",
       "    <tr>\n",
       "      <th>777</th>\n",
       "      <td>AWo0t0CTAGTnQPR7rCEj</td>\n",
       "    </tr>\n",
       "  </tbody>\n",
       "</table>\n",
       "<p>778 rows × 1 columns</p>\n",
       "</div>"
      ],
      "text/plain": [
       "                       id\n",
       "0    AV-9hndsuC1rwyj_g2bb\n",
       "1    AV-9hpHjYSSHbkXwpyGV\n",
       "2    AV-9hqJYuC1rwyj_g2c_\n",
       "3    AV-9hriAuC1rwyj_g2dv\n",
       "4    AV-9hsUluC1rwyj_g2eA\n",
       "..                    ...\n",
       "773  AWo0mhdH0U_gzG0he0vq\n",
       "774  AWo0mknt0U_gzG0he0wP\n",
       "775  AWo0mv6FAGTnQPR7rBzB\n",
       "776  AWo0nACN0U_gzG0he0zJ\n",
       "777  AWo0t0CTAGTnQPR7rCEj\n",
       "\n",
       "[778 rows x 1 columns]"
      ]
     },
     "execution_count": 141,
     "metadata": {},
     "output_type": "execute_result"
    }
   ],
   "source": [
    "x = pd.read_csv('https://raw.githubusercontent.com/aakash-atnoorkar/Team5_INFO7374_Spring2021/main/Project%3A%20Designer%20Shoes%20Recommendation%20System/Designer%20Shoe%20Recommendation%20App/indices.csv')\n",
    "#x = x.set_index('id')\n",
    "x"
   ]
  },
  {
   "cell_type": "code",
   "execution_count": null,
   "id": "bibliographic-harris",
   "metadata": {},
   "outputs": [],
   "source": []
  }
 ],
 "metadata": {
  "kernelspec": {
   "display_name": "Python 3",
   "language": "python",
   "name": "python3"
  },
  "language_info": {
   "codemirror_mode": {
    "name": "ipython",
    "version": 3
   },
   "file_extension": ".py",
   "mimetype": "text/x-python",
   "name": "python",
   "nbconvert_exporter": "python",
   "pygments_lexer": "ipython3",
   "version": "3.8.8"
  }
 },
 "nbformat": 4,
 "nbformat_minor": 5
}
