{
  "nbformat": 4,
  "nbformat_minor": 0,
  "metadata": {
    "colab": {
      "name": "faissmethod.ipynb_assignment",
      "provenance": [],
      "collapsed_sections": [],
      "toc_visible": true
    },
    "kernelspec": {
      "display_name": "Python 3",
      "language": "python",
      "name": "python3"
    },
    "language_info": {
      "codemirror_mode": {
        "name": "ipython",
        "version": 3
      },
      "file_extension": ".py",
      "mimetype": "text/x-python",
      "name": "python",
      "nbconvert_exporter": "python",
      "pygments_lexer": "ipython3",
      "version": "3.7.3"
    },
    "widgets": {
      "application/vnd.jupyter.widget-state+json": {
        "6004ca6c0ea54e9c8c93b0ead2acbe3b": {
          "model_module": "@jupyter-widgets/controls",
          "model_name": "HBoxModel",
          "state": {
            "_view_name": "HBoxView",
            "_dom_classes": [],
            "_model_name": "HBoxModel",
            "_view_module": "@jupyter-widgets/controls",
            "_model_module_version": "1.5.0",
            "_view_count": null,
            "_view_module_version": "1.5.0",
            "box_style": "",
            "layout": "IPY_MODEL_189edc9b65de4b069bc4ac793819ef08",
            "_model_module": "@jupyter-widgets/controls",
            "children": [
              "IPY_MODEL_8529162df28942a5a497ed5be6b80d61",
              "IPY_MODEL_9ca1efd912c14fb6b09742057b4b8e94"
            ]
          }
        },
        "189edc9b65de4b069bc4ac793819ef08": {
          "model_module": "@jupyter-widgets/base",
          "model_name": "LayoutModel",
          "state": {
            "_view_name": "LayoutView",
            "grid_template_rows": null,
            "right": null,
            "justify_content": null,
            "_view_module": "@jupyter-widgets/base",
            "overflow": null,
            "_model_module_version": "1.2.0",
            "_view_count": null,
            "flex_flow": null,
            "width": null,
            "min_width": null,
            "border": null,
            "align_items": null,
            "bottom": null,
            "_model_module": "@jupyter-widgets/base",
            "top": null,
            "grid_column": null,
            "overflow_y": null,
            "overflow_x": null,
            "grid_auto_flow": null,
            "grid_area": null,
            "grid_template_columns": null,
            "flex": null,
            "_model_name": "LayoutModel",
            "justify_items": null,
            "grid_row": null,
            "max_height": null,
            "align_content": null,
            "visibility": null,
            "align_self": null,
            "height": null,
            "min_height": null,
            "padding": null,
            "grid_auto_rows": null,
            "grid_gap": null,
            "max_width": null,
            "order": null,
            "_view_module_version": "1.2.0",
            "grid_template_areas": null,
            "object_position": null,
            "object_fit": null,
            "grid_auto_columns": null,
            "margin": null,
            "display": null,
            "left": null
          }
        },
        "8529162df28942a5a497ed5be6b80d61": {
          "model_module": "@jupyter-widgets/controls",
          "model_name": "FloatProgressModel",
          "state": {
            "_view_name": "ProgressView",
            "style": "IPY_MODEL_60662e063988418e8c2f7e2e3928ffc9",
            "_dom_classes": [],
            "description": "100%",
            "_model_name": "FloatProgressModel",
            "bar_style": "success",
            "max": 110,
            "_view_module": "@jupyter-widgets/controls",
            "_model_module_version": "1.5.0",
            "value": 110,
            "_view_count": null,
            "_view_module_version": "1.5.0",
            "orientation": "horizontal",
            "min": 0,
            "description_tooltip": null,
            "_model_module": "@jupyter-widgets/controls",
            "layout": "IPY_MODEL_4b489325aaf348ddbe8b0d1306e28414"
          }
        },
        "9ca1efd912c14fb6b09742057b4b8e94": {
          "model_module": "@jupyter-widgets/controls",
          "model_name": "HTMLModel",
          "state": {
            "_view_name": "HTMLView",
            "style": "IPY_MODEL_cb5d0c6f01854066aeddfdf5a76d4e60",
            "_dom_classes": [],
            "description": "",
            "_model_name": "HTMLModel",
            "placeholder": "​",
            "_view_module": "@jupyter-widgets/controls",
            "_model_module_version": "1.5.0",
            "value": " 110/110 [00:37&lt;00:00,  2.90it/s]",
            "_view_count": null,
            "_view_module_version": "1.5.0",
            "description_tooltip": null,
            "_model_module": "@jupyter-widgets/controls",
            "layout": "IPY_MODEL_ea196e26be094cda83c1a1f05b131bee"
          }
        },
        "60662e063988418e8c2f7e2e3928ffc9": {
          "model_module": "@jupyter-widgets/controls",
          "model_name": "ProgressStyleModel",
          "state": {
            "_view_name": "StyleView",
            "_model_name": "ProgressStyleModel",
            "description_width": "initial",
            "_view_module": "@jupyter-widgets/base",
            "_model_module_version": "1.5.0",
            "_view_count": null,
            "_view_module_version": "1.2.0",
            "bar_color": null,
            "_model_module": "@jupyter-widgets/controls"
          }
        },
        "4b489325aaf348ddbe8b0d1306e28414": {
          "model_module": "@jupyter-widgets/base",
          "model_name": "LayoutModel",
          "state": {
            "_view_name": "LayoutView",
            "grid_template_rows": null,
            "right": null,
            "justify_content": null,
            "_view_module": "@jupyter-widgets/base",
            "overflow": null,
            "_model_module_version": "1.2.0",
            "_view_count": null,
            "flex_flow": null,
            "width": null,
            "min_width": null,
            "border": null,
            "align_items": null,
            "bottom": null,
            "_model_module": "@jupyter-widgets/base",
            "top": null,
            "grid_column": null,
            "overflow_y": null,
            "overflow_x": null,
            "grid_auto_flow": null,
            "grid_area": null,
            "grid_template_columns": null,
            "flex": null,
            "_model_name": "LayoutModel",
            "justify_items": null,
            "grid_row": null,
            "max_height": null,
            "align_content": null,
            "visibility": null,
            "align_self": null,
            "height": null,
            "min_height": null,
            "padding": null,
            "grid_auto_rows": null,
            "grid_gap": null,
            "max_width": null,
            "order": null,
            "_view_module_version": "1.2.0",
            "grid_template_areas": null,
            "object_position": null,
            "object_fit": null,
            "grid_auto_columns": null,
            "margin": null,
            "display": null,
            "left": null
          }
        },
        "cb5d0c6f01854066aeddfdf5a76d4e60": {
          "model_module": "@jupyter-widgets/controls",
          "model_name": "DescriptionStyleModel",
          "state": {
            "_view_name": "StyleView",
            "_model_name": "DescriptionStyleModel",
            "description_width": "",
            "_view_module": "@jupyter-widgets/base",
            "_model_module_version": "1.5.0",
            "_view_count": null,
            "_view_module_version": "1.2.0",
            "_model_module": "@jupyter-widgets/controls"
          }
        },
        "ea196e26be094cda83c1a1f05b131bee": {
          "model_module": "@jupyter-widgets/base",
          "model_name": "LayoutModel",
          "state": {
            "_view_name": "LayoutView",
            "grid_template_rows": null,
            "right": null,
            "justify_content": null,
            "_view_module": "@jupyter-widgets/base",
            "overflow": null,
            "_model_module_version": "1.2.0",
            "_view_count": null,
            "flex_flow": null,
            "width": null,
            "min_width": null,
            "border": null,
            "align_items": null,
            "bottom": null,
            "_model_module": "@jupyter-widgets/base",
            "top": null,
            "grid_column": null,
            "overflow_y": null,
            "overflow_x": null,
            "grid_auto_flow": null,
            "grid_area": null,
            "grid_template_columns": null,
            "flex": null,
            "_model_name": "LayoutModel",
            "justify_items": null,
            "grid_row": null,
            "max_height": null,
            "align_content": null,
            "visibility": null,
            "align_self": null,
            "height": null,
            "min_height": null,
            "padding": null,
            "grid_auto_rows": null,
            "grid_gap": null,
            "max_width": null,
            "order": null,
            "_view_module_version": "1.2.0",
            "grid_template_areas": null,
            "object_position": null,
            "object_fit": null,
            "grid_auto_columns": null,
            "margin": null,
            "display": null,
            "left": null
          }
        }
      }
    },
    "accelerator": "GPU"
  },
  "cells": [
    {
      "cell_type": "markdown",
      "metadata": {
        "id": "b-W-TLMjPInl"
      },
      "source": [
        "# FAISS (Facebook AI Similarity Search) Method"
      ]
    },
    {
      "cell_type": "code",
      "metadata": {
        "colab": {
          "base_uri": "https://localhost:8080/"
        },
        "id": "qJh6uD68xSkE",
        "outputId": "e6b68536-5c84-48dc-baf6-8e2655662ba0"
      },
      "source": [
        "pip install faiss-cpu"
      ],
      "execution_count": 1,
      "outputs": [
        {
          "output_type": "stream",
          "text": [
            "Collecting faiss-cpu\n",
            "\u001b[?25l  Downloading https://files.pythonhosted.org/packages/48/0c/efd43c4feac172867409f38f07949c36602355ec7196749d10f905d09228/faiss_cpu-1.7.0-cp37-cp37m-manylinux2014_x86_64.whl (8.1MB)\n",
            "\u001b[K     |████████████████████████████████| 8.2MB 8.0MB/s \n",
            "\u001b[?25hInstalling collected packages: faiss-cpu\n",
            "Successfully installed faiss-cpu-1.7.0\n"
          ],
          "name": "stdout"
        }
      ]
    },
    {
      "cell_type": "code",
      "metadata": {
        "colab": {
          "base_uri": "https://localhost:8080/"
        },
        "id": "-yU6W2lqCkWV",
        "outputId": "5c3f8285-3f50-431e-e277-aba2a6520750"
      },
      "source": [
        "from zipfile import ZipFile \n",
        "file_name = \"abc.zip\"\n",
        "\n",
        "with ZipFile(file_name , 'r') as zip:\n",
        "  zip.extractall()\n",
        "  print('done')"
      ],
      "execution_count": 2,
      "outputs": [
        {
          "output_type": "stream",
          "text": [
            "done\n"
          ],
          "name": "stdout"
        }
      ]
    },
    {
      "cell_type": "markdown",
      "metadata": {
        "id": "wZ1wq34iPIno"
      },
      "source": [
        "Importing Libraries\n"
      ]
    },
    {
      "cell_type": "code",
      "metadata": {
        "id": "3xTqbPfjx18Q"
      },
      "source": [
        "import numpy as np\n",
        "import faiss \n",
        "import time\n",
        "import pandas as pd\n",
        "from numpy.linalg import norm\n",
        "import pickle\n",
        "from tqdm import tqdm, tqdm_notebook\n",
        "import os\n",
        "import time\n",
        "from tensorflow.keras.preprocessing import image\n",
        "from tensorflow.keras.applications.resnet50 import ResNet50, preprocess_input"
      ],
      "execution_count": 3,
      "outputs": []
    },
    {
      "cell_type": "markdown",
      "metadata": {
        "id": "apydfLY1PInp"
      },
      "source": [
        "Defining a function to extract image features given an image and Resnet-50 model"
      ]
    },
    {
      "cell_type": "code",
      "metadata": {
        "colab": {
          "base_uri": "https://localhost:8080/"
        },
        "id": "u9Uyiatux5Wp",
        "outputId": "cfebccf4-3d0a-4d7d-9fad-2839c98275d7"
      },
      "source": [
        "model = ResNet50(weights='imagenet', include_top=False,\n",
        "                 input_shape=(180, 180, 3))\n",
        "def extract_features(img_path, model):\n",
        "    input_shape = (180, 180, 3)\n",
        "    img = image.load_img(img_path, target_size=(\n",
        "        input_shape[0], input_shape[1]))\n",
        "    img_array = image.img_to_array(img)\n",
        "    expanded_img_array = np.expand_dims(img_array, axis=0)\n",
        "    preprocessed_img = preprocess_input(expanded_img_array)\n",
        "    features = model.predict(preprocessed_img)\n",
        "    flattened_features = features.flatten()\n",
        "    normalized_features = flattened_features / norm(flattened_features)\n",
        "    return normalized_features"
      ],
      "execution_count": 4,
      "outputs": [
        {
          "output_type": "stream",
          "text": [
            "Downloading data from https://storage.googleapis.com/tensorflow/keras-applications/resnet/resnet50_weights_tf_dim_ordering_tf_kernels_notop.h5\n",
            "94773248/94765736 [==============================] - 1s 0us/step\n"
          ],
          "name": "stdout"
        }
      ]
    },
    {
      "cell_type": "markdown",
      "metadata": {
        "id": "xhFgWOtwPInq"
      },
      "source": [
        "Function to recursively get all the image files under a root directory."
      ]
    },
    {
      "cell_type": "code",
      "metadata": {
        "id": "HQ5-3NEqyBCZ"
      },
      "source": [
        "extensions = ['.jpg', '.JPG', '.jpeg', '.JPEG', '.png', '.PNG']\n",
        "def get_file_list(root_dir):\n",
        "    file_list = []\n",
        "    counter = 1\n",
        "    for root, directories, filenames in os.walk(root_dir):\n",
        "        for filename in filenames:\n",
        "            if any(ext in filename for ext in extensions):\n",
        "                file_list.append(os.path.join(root, filename))\n",
        "                counter += 1\n",
        "    return file_list"
      ],
      "execution_count": 5,
      "outputs": []
    },
    {
      "cell_type": "markdown",
      "metadata": {
        "id": "Z2JqZPRPPInr"
      },
      "source": [
        "Run the extraction over the entire dataset."
      ]
    },
    {
      "cell_type": "code",
      "metadata": {
        "id": "7fFPC6UeyDqJ"
      },
      "source": [
        "root_dir = '/content/abc'\n",
        "files = sorted(get_file_list(root_dir))"
      ],
      "execution_count": 6,
      "outputs": []
    },
    {
      "cell_type": "code",
      "metadata": {
        "colab": {
          "base_uri": "https://localhost:8080/"
        },
        "id": "RkcPogzSdyYz",
        "outputId": "8cb9b52b-99a8-40f8-f76a-b84ed0c7bf79"
      },
      "source": [
        "pip install tqdm"
      ],
      "execution_count": null,
      "outputs": [
        {
          "output_type": "stream",
          "text": [
            "Requirement already satisfied: tqdm in /usr/local/lib/python3.7/dist-packages (4.41.1)\n"
          ],
          "name": "stdout"
        }
      ]
    },
    {
      "cell_type": "code",
      "metadata": {
        "id": "TxP_UyfZdmWD"
      },
      "source": [
        "#import tqdm.console as tqdm\n",
        "import tqdm.gui as tqdm\n",
        "import tqdm.notebook as tqdm"
      ],
      "execution_count": null,
      "outputs": []
    },
    {
      "cell_type": "code",
      "metadata": {
        "id": "XU9afWlWedG4"
      },
      "source": [
        "from tqdm.notebook import tqdm_notebook"
      ],
      "execution_count": null,
      "outputs": []
    },
    {
      "cell_type": "code",
      "metadata": {
        "colab": {
          "base_uri": "https://localhost:8080/",
          "height": 116,
          "referenced_widgets": [
            "6004ca6c0ea54e9c8c93b0ead2acbe3b",
            "189edc9b65de4b069bc4ac793819ef08",
            "8529162df28942a5a497ed5be6b80d61",
            "9ca1efd912c14fb6b09742057b4b8e94",
            "60662e063988418e8c2f7e2e3928ffc9",
            "4b489325aaf348ddbe8b0d1306e28414",
            "cb5d0c6f01854066aeddfdf5a76d4e60",
            "ea196e26be094cda83c1a1f05b131bee"
          ]
        },
        "id": "5Eqn63jQyH14",
        "outputId": "4aeb0ada-5758-46c0-ce16-e326c56b494d"
      },
      "source": [
        "feature_list = []\n",
        "for i in tqdm_notebook(range(len(files))):\n",
        "    feature_list.append(extract_features(files[i], model))"
      ],
      "execution_count": 7,
      "outputs": [
        {
          "output_type": "stream",
          "text": [
            "/usr/local/lib/python3.7/dist-packages/ipykernel_launcher.py:2: TqdmDeprecationWarning: This function will be removed in tqdm==5.0.0\n",
            "Please use `tqdm.notebook.tqdm` instead of `tqdm.tqdm_notebook`\n",
            "  \n"
          ],
          "name": "stderr"
        },
        {
          "output_type": "display_data",
          "data": {
            "application/vnd.jupyter.widget-view+json": {
              "model_id": "6004ca6c0ea54e9c8c93b0ead2acbe3b",
              "version_minor": 0,
              "version_major": 2
            },
            "text/plain": [
              "HBox(children=(FloatProgress(value=0.0, max=110.0), HTML(value='')))"
            ]
          },
          "metadata": {
            "tags": []
          }
        },
        {
          "output_type": "stream",
          "text": [
            "\n"
          ],
          "name": "stdout"
        }
      ]
    },
    {
      "cell_type": "code",
      "metadata": {
        "colab": {
          "base_uri": "https://localhost:8080/"
        },
        "id": "EH0FLFZFyN15",
        "outputId": "85a23e61-e387-4c1d-c501-dcc0f25a1c8b"
      },
      "source": [
        "feature_list"
      ],
      "execution_count": 8,
      "outputs": [
        {
          "output_type": "execute_result",
          "data": {
            "text/plain": [
              "[array([0., 0., 0., ..., 0., 0., 0.], dtype=float32),\n",
              " array([0., 0., 0., ..., 0., 0., 0.], dtype=float32),\n",
              " array([0., 0., 0., ..., 0., 0., 0.], dtype=float32),\n",
              " array([0.        , 0.        , 0.        , ..., 0.        , 0.        ,\n",
              "        0.00218143], dtype=float32),\n",
              " array([0.        , 0.        , 0.        , ..., 0.        , 0.        ,\n",
              "        0.00759384], dtype=float32),\n",
              " array([0.0000000e+00, 0.0000000e+00, 0.0000000e+00, ..., 2.0877398e-05,\n",
              "        0.0000000e+00, 0.0000000e+00], dtype=float32),\n",
              " array([0., 0., 0., ..., 0., 0., 0.], dtype=float32),\n",
              " array([0.        , 0.        , 0.        , ..., 0.        , 0.        ,\n",
              "        0.00065994], dtype=float32),\n",
              " array([0., 0., 0., ..., 0., 0., 0.], dtype=float32),\n",
              " array([0., 0., 0., ..., 0., 0., 0.], dtype=float32),\n",
              " array([0.        , 0.        , 0.        , ..., 0.        , 0.        ,\n",
              "        0.00623004], dtype=float32),\n",
              " array([0., 0., 0., ..., 0., 0., 0.], dtype=float32),\n",
              " array([0.        , 0.        , 0.        , ..., 0.        , 0.        ,\n",
              "        0.00997018], dtype=float32),\n",
              " array([0.        , 0.        , 0.        , ..., 0.        , 0.        ,\n",
              "        0.01655511], dtype=float32),\n",
              " array([0., 0., 0., ..., 0., 0., 0.], dtype=float32),\n",
              " array([0.        , 0.        , 0.        , ..., 0.        , 0.        ,\n",
              "        0.00324803], dtype=float32),\n",
              " array([0., 0., 0., ..., 0., 0., 0.], dtype=float32),\n",
              " array([0., 0., 0., ..., 0., 0., 0.], dtype=float32),\n",
              " array([0.        , 0.        , 0.        , ..., 0.        , 0.        ,\n",
              "        0.00472318], dtype=float32),\n",
              " array([0., 0., 0., ..., 0., 0., 0.], dtype=float32),\n",
              " array([0., 0., 0., ..., 0., 0., 0.], dtype=float32),\n",
              " array([0.        , 0.        , 0.        , ..., 0.        , 0.        ,\n",
              "        0.00581867], dtype=float32),\n",
              " array([0.        , 0.        , 0.        , ..., 0.        , 0.        ,\n",
              "        0.00472656], dtype=float32),\n",
              " array([0.        , 0.        , 0.        , ..., 0.        , 0.        ,\n",
              "        0.02643614], dtype=float32),\n",
              " array([0.        , 0.        , 0.        , ..., 0.        , 0.        ,\n",
              "        0.01435088], dtype=float32),\n",
              " array([0., 0., 0., ..., 0., 0., 0.], dtype=float32),\n",
              " array([0.        , 0.        , 0.        , ..., 0.        , 0.        ,\n",
              "        0.00911921], dtype=float32),\n",
              " array([0.        , 0.        , 0.        , ..., 0.        , 0.        ,\n",
              "        0.00846091], dtype=float32),\n",
              " array([0.        , 0.        , 0.        , ..., 0.00023287, 0.        ,\n",
              "        0.00044576], dtype=float32),\n",
              " array([0.        , 0.        , 0.        , ..., 0.        , 0.        ,\n",
              "        0.01681868], dtype=float32),\n",
              " array([0., 0., 0., ..., 0., 0., 0.], dtype=float32),\n",
              " array([0.        , 0.        , 0.        , ..., 0.        , 0.        ,\n",
              "        0.00432289], dtype=float32),\n",
              " array([0., 0., 0., ..., 0., 0., 0.], dtype=float32),\n",
              " array([0.        , 0.        , 0.        , ..., 0.        , 0.        ,\n",
              "        0.00585311], dtype=float32),\n",
              " array([0.        , 0.        , 0.        , ..., 0.        , 0.        ,\n",
              "        0.00189894], dtype=float32),\n",
              " array([0.        , 0.        , 0.        , ..., 0.        , 0.        ,\n",
              "        0.00678197], dtype=float32),\n",
              " array([0.        , 0.        , 0.        , ..., 0.        , 0.        ,\n",
              "        0.00564268], dtype=float32),\n",
              " array([0., 0., 0., ..., 0., 0., 0.], dtype=float32),\n",
              " array([2.0506335e-03, 9.8506080e-06, 0.0000000e+00, ..., 0.0000000e+00,\n",
              "        0.0000000e+00, 0.0000000e+00], dtype=float32),\n",
              " array([0., 0., 0., ..., 0., 0., 0.], dtype=float32),\n",
              " array([0., 0., 0., ..., 0., 0., 0.], dtype=float32),\n",
              " array([0., 0., 0., ..., 0., 0., 0.], dtype=float32),\n",
              " array([0.        , 0.00063508, 0.        , ..., 0.        , 0.        ,\n",
              "        0.        ], dtype=float32),\n",
              " array([0., 0., 0., ..., 0., 0., 0.], dtype=float32),\n",
              " array([0.        , 0.00700145, 0.        , ..., 0.        , 0.        ,\n",
              "        0.00480721], dtype=float32),\n",
              " array([0., 0., 0., ..., 0., 0., 0.], dtype=float32),\n",
              " array([0., 0., 0., ..., 0., 0., 0.], dtype=float32),\n",
              " array([0.        , 0.        , 0.        , ..., 0.        , 0.        ,\n",
              "        0.00800155], dtype=float32),\n",
              " array([0.        , 0.        , 0.        , ..., 0.        , 0.        ,\n",
              "        0.00789252], dtype=float32),\n",
              " array([0., 0., 0., ..., 0., 0., 0.], dtype=float32),\n",
              " array([0., 0., 0., ..., 0., 0., 0.], dtype=float32),\n",
              " array([0.        , 0.        , 0.        , ..., 0.        , 0.        ,\n",
              "        0.00532261], dtype=float32),\n",
              " array([0., 0., 0., ..., 0., 0., 0.], dtype=float32),\n",
              " array([0.        , 0.        , 0.        , ..., 0.        , 0.        ,\n",
              "        0.00690828], dtype=float32),\n",
              " array([0.        , 0.        , 0.        , ..., 0.        , 0.        ,\n",
              "        0.00579974], dtype=float32),\n",
              " array([0., 0., 0., ..., 0., 0., 0.], dtype=float32),\n",
              " array([0.        , 0.        , 0.        , ..., 0.        , 0.        ,\n",
              "        0.00852763], dtype=float32),\n",
              " array([0., 0., 0., ..., 0., 0., 0.], dtype=float32),\n",
              " array([0.        , 0.        , 0.        , ..., 0.        , 0.        ,\n",
              "        0.00181196], dtype=float32),\n",
              " array([0., 0., 0., ..., 0., 0., 0.], dtype=float32),\n",
              " array([0., 0., 0., ..., 0., 0., 0.], dtype=float32),\n",
              " array([0., 0., 0., ..., 0., 0., 0.], dtype=float32),\n",
              " array([0., 0., 0., ..., 0., 0., 0.], dtype=float32),\n",
              " array([0., 0., 0., ..., 0., 0., 0.], dtype=float32),\n",
              " array([0., 0., 0., ..., 0., 0., 0.], dtype=float32),\n",
              " array([0.        , 0.        , 0.        , ..., 0.        , 0.        ,\n",
              "        0.00158925], dtype=float32),\n",
              " array([0.        , 0.        , 0.        , ..., 0.        , 0.        ,\n",
              "        0.00457179], dtype=float32),\n",
              " array([0., 0., 0., ..., 0., 0., 0.], dtype=float32),\n",
              " array([0., 0., 0., ..., 0., 0., 0.], dtype=float32),\n",
              " array([0., 0., 0., ..., 0., 0., 0.], dtype=float32),\n",
              " array([0., 0., 0., ..., 0., 0., 0.], dtype=float32),\n",
              " array([0., 0., 0., ..., 0., 0., 0.], dtype=float32),\n",
              " array([0.        , 0.        , 0.        , ..., 0.        , 0.        ,\n",
              "        0.00640513], dtype=float32),\n",
              " array([0.        , 0.        , 0.        , ..., 0.        , 0.        ,\n",
              "        0.00772086], dtype=float32),\n",
              " array([0.        , 0.        , 0.        , ..., 0.        , 0.        ,\n",
              "        0.00656784], dtype=float32),\n",
              " array([0., 0., 0., ..., 0., 0., 0.], dtype=float32),\n",
              " array([0., 0., 0., ..., 0., 0., 0.], dtype=float32),\n",
              " array([0.        , 0.        , 0.        , ..., 0.        , 0.        ,\n",
              "        0.00356276], dtype=float32),\n",
              " array([0.        , 0.        , 0.        , ..., 0.        , 0.        ,\n",
              "        0.00579849], dtype=float32),\n",
              " array([0.        , 0.        , 0.        , ..., 0.        , 0.        ,\n",
              "        0.01160944], dtype=float32),\n",
              " array([0., 0., 0., ..., 0., 0., 0.], dtype=float32),\n",
              " array([0., 0., 0., ..., 0., 0., 0.], dtype=float32),\n",
              " array([0.        , 0.        , 0.        , ..., 0.        , 0.        ,\n",
              "        0.00852743], dtype=float32),\n",
              " array([0.        , 0.        , 0.        , ..., 0.        , 0.        ,\n",
              "        0.00094007], dtype=float32),\n",
              " array([0., 0., 0., ..., 0., 0., 0.], dtype=float32),\n",
              " array([0.        , 0.        , 0.        , ..., 0.        , 0.        ,\n",
              "        0.00935352], dtype=float32),\n",
              " array([0., 0., 0., ..., 0., 0., 0.], dtype=float32),\n",
              " array([0., 0., 0., ..., 0., 0., 0.], dtype=float32),\n",
              " array([0., 0., 0., ..., 0., 0., 0.], dtype=float32),\n",
              " array([0., 0., 0., ..., 0., 0., 0.], dtype=float32),\n",
              " array([0.        , 0.        , 0.        , ..., 0.        , 0.        ,\n",
              "        0.00403882], dtype=float32),\n",
              " array([0.        , 0.        , 0.        , ..., 0.        , 0.        ,\n",
              "        0.00434041], dtype=float32),\n",
              " array([0.        , 0.        , 0.        , ..., 0.        , 0.        ,\n",
              "        0.00126748], dtype=float32),\n",
              " array([0.        , 0.        , 0.        , ..., 0.        , 0.        ,\n",
              "        0.01311858], dtype=float32),\n",
              " array([0., 0., 0., ..., 0., 0., 0.], dtype=float32),\n",
              " array([0., 0., 0., ..., 0., 0., 0.], dtype=float32),\n",
              " array([0., 0., 0., ..., 0., 0., 0.], dtype=float32),\n",
              " array([0., 0., 0., ..., 0., 0., 0.], dtype=float32),\n",
              " array([0., 0., 0., ..., 0., 0., 0.], dtype=float32),\n",
              " array([0., 0., 0., ..., 0., 0., 0.], dtype=float32),\n",
              " array([0., 0., 0., ..., 0., 0., 0.], dtype=float32),\n",
              " array([0.        , 0.        , 0.        , ..., 0.        , 0.        ,\n",
              "        0.00496071], dtype=float32),\n",
              " array([0.        , 0.        , 0.        , ..., 0.        , 0.        ,\n",
              "        0.00213081], dtype=float32),\n",
              " array([0.        , 0.        , 0.        , ..., 0.        , 0.        ,\n",
              "        0.00108908], dtype=float32),\n",
              " array([0., 0., 0., ..., 0., 0., 0.], dtype=float32),\n",
              " array([0.        , 0.        , 0.        , ..., 0.        , 0.        ,\n",
              "        0.00917579], dtype=float32),\n",
              " array([0., 0., 0., ..., 0., 0., 0.], dtype=float32),\n",
              " array([0., 0., 0., ..., 0., 0., 0.], dtype=float32),\n",
              " array([0., 0., 0., ..., 0., 0., 0.], dtype=float32),\n",
              " array([0., 0., 0., ..., 0., 0., 0.], dtype=float32)]"
            ]
          },
          "metadata": {
            "tags": []
          },
          "execution_count": 8
        }
      ]
    },
    {
      "cell_type": "code",
      "metadata": {
        "id": "2M3cHsECyRDg"
      },
      "source": [
        "feature_list=np.array(feature_list)"
      ],
      "execution_count": 9,
      "outputs": []
    },
    {
      "cell_type": "code",
      "metadata": {
        "colab": {
          "base_uri": "https://localhost:8080/"
        },
        "id": "qfS657JfyZ8o",
        "outputId": "42d29806-24ee-48d0-ba82-07707fce88cf"
      },
      "source": [
        "feature_list.shape"
      ],
      "execution_count": 10,
      "outputs": [
        {
          "output_type": "execute_result",
          "data": {
            "text/plain": [
              "(110, 73728)"
            ]
          },
          "metadata": {
            "tags": []
          },
          "execution_count": 10
        }
      ]
    },
    {
      "cell_type": "code",
      "metadata": {
        "id": "ML4Enk-QybcJ"
      },
      "source": [
        "dimension = 73728    # dimensions of each vector                         \n",
        "n = len(files)    # number of vectors                   \n",
        "np.random.seed(1)             \n",
        "db_vec = feature_list #np.random.random((n, dimension)).astype('float32')"
      ],
      "execution_count": 11,
      "outputs": []
    },
    {
      "cell_type": "code",
      "metadata": {
        "colab": {
          "base_uri": "https://localhost:8080/"
        },
        "id": "vpLb69dBykDg",
        "outputId": "3b4455d2-b68b-43d7-f520-6ff43a9fa2af"
      },
      "source": [
        "db_vec.shape"
      ],
      "execution_count": 12,
      "outputs": [
        {
          "output_type": "execute_result",
          "data": {
            "text/plain": [
              "(110, 73728)"
            ]
          },
          "metadata": {
            "tags": []
          },
          "execution_count": 12
        }
      ]
    },
    {
      "cell_type": "code",
      "metadata": {
        "id": "UwYo4O1Pylug"
      },
      "source": [
        "nlist = 1  # number of clusters\n",
        "quantiser = faiss.IndexFlatL2(dimension)  \n",
        "index = faiss.IndexIVFFlat(quantiser, dimension, nlist,   faiss.METRIC_L2)"
      ],
      "execution_count": 13,
      "outputs": []
    },
    {
      "cell_type": "code",
      "metadata": {
        "colab": {
          "base_uri": "https://localhost:8080/"
        },
        "id": "VUBv3LmzyoSI",
        "outputId": "063b479a-9f0b-408e-e95f-a5999f9e0bba"
      },
      "source": [
        "print(index.is_trained)   # False\n",
        "index.train(db_vec)  # train on the database vectors\n",
        "print(index.ntotal)   # 0\n",
        "index.add(db_vec)   # add the vectors and update the index\n",
        "print(index.is_trained)  # True\n",
        "print(index.ntotal)   # 200"
      ],
      "execution_count": 14,
      "outputs": [
        {
          "output_type": "stream",
          "text": [
            "False\n",
            "0\n",
            "True\n",
            "110\n"
          ],
          "name": "stdout"
        }
      ]
    },
    {
      "cell_type": "code",
      "metadata": {
        "id": "ynO6CseMy1lI"
      },
      "source": [
        "nprobe = 1  # find 2 most similar clusters\n",
        "n_query = 110  \n",
        "k = 10  # return 3 nearest neighbours\n",
        "np.random.seed(0)   \n",
        "query_vectors = feature_list#np.random.random((n_query, dimension)).astype('float32')\n",
        "distances, indices = index.search(query_vectors, k)"
      ],
      "execution_count": 15,
      "outputs": []
    },
    {
      "cell_type": "code",
      "metadata": {
        "colab": {
          "base_uri": "https://localhost:8080/"
        },
        "id": "1XtLN_PTy3EQ",
        "outputId": "201a62e9-3cf6-438d-c455-36e4ae51f613"
      },
      "source": [
        "distances"
      ],
      "execution_count": 16,
      "outputs": [
        {
          "output_type": "execute_result",
          "data": {
            "text/plain": [
              "array([[0.       , 0.       , 1.0203644, ..., 1.2095646, 1.220204 ,\n",
              "        1.2303387],\n",
              "       [0.       , 0.       , 1.0203644, ..., 1.2095646, 1.220204 ,\n",
              "        1.2303387],\n",
              "       [0.       , 1.0432832, 1.168778 , ..., 1.2695479, 1.2880524,\n",
              "        1.291001 ],\n",
              "       ...,\n",
              "       [0.       , 0.8455598, 1.0093704, ..., 1.1652576, 1.2458723,\n",
              "        1.2502122],\n",
              "       [0.       , 1.1026717, 1.1026717, ..., 1.2809144, 1.2917243,\n",
              "        1.3118236],\n",
              "       [0.       , 1.2989217, 1.3176483, ..., 1.3456513, 1.3556067,\n",
              "        1.3596555]], dtype=float32)"
            ]
          },
          "metadata": {
            "tags": []
          },
          "execution_count": 16
        }
      ]
    },
    {
      "cell_type": "code",
      "metadata": {
        "colab": {
          "base_uri": "https://localhost:8080/"
        },
        "id": "caGQacCOzFWw",
        "outputId": "1db6d195-3c73-41ce-c54d-c379754d3c4a"
      },
      "source": [
        "indices"
      ],
      "execution_count": 17,
      "outputs": [
        {
          "output_type": "execute_result",
          "data": {
            "text/plain": [
              "array([[  0,   1,  69, ...,  36, 101, 106],\n",
              "       [  0,   1,  69, ...,  36, 101, 106],\n",
              "       [  2,  41,  38, ...,  60,  64,  76],\n",
              "       ...,\n",
              "       [107,  60,  75, ...,  95,  76,  19],\n",
              "       [108,   1,   0, ...,  36,  61,  45],\n",
              "       [109,   9,  88, ...,  27,  85,  95]])"
            ]
          },
          "metadata": {
            "tags": []
          },
          "execution_count": 17
        }
      ]
    },
    {
      "cell_type": "code",
      "metadata": {
        "id": "F_70lrhzzHGf"
      },
      "source": [
        "faiss.write_index(index,\"vectors.index\")  # save the index to \n",
        "# diskindex = faiss.read_index(\"vector.index\")  # load the index "
      ],
      "execution_count": 18,
      "outputs": []
    },
    {
      "cell_type": "code",
      "metadata": {
        "id": "85lQAXK7zRrJ"
      },
      "source": [
        "diskindex = faiss.read_index(\"vectors.index\")"
      ],
      "execution_count": 19,
      "outputs": []
    },
    {
      "cell_type": "code",
      "metadata": {
        "id": "RwcdhGnFzgfA"
      },
      "source": [
        "pickle.dump(feature_list, open('features-cdiscount-resnet.pickle', 'wb'))\n",
        "pickle.dump('filenames', open('filenames-cdiscount.pickle','wb'))"
      ],
      "execution_count": 20,
      "outputs": []
    },
    {
      "cell_type": "code",
      "metadata": {
        "id": "vGQENQ7MzkI4"
      },
      "source": [
        "import matplotlib.pyplot as plt\n",
        "import matplotlib.image as mpimg"
      ],
      "execution_count": 22,
      "outputs": []
    },
    {
      "cell_type": "code",
      "metadata": {
        "colab": {
          "base_uri": "https://localhost:8080/",
          "height": 35
        },
        "id": "YE8TVt4OzorI",
        "outputId": "be1cd6dd-4fa6-4cf7-bab6-c13920e0fef7"
      },
      "source": [
        "files[1]"
      ],
      "execution_count": 23,
      "outputs": [
        {
          "output_type": "execute_result",
          "data": {
            "application/vnd.google.colaboratory.intrinsic+json": {
              "type": "string"
            },
            "text/plain": [
              "'/content/abc/test_1.jpg'"
            ]
          },
          "metadata": {
            "tags": []
          },
          "execution_count": 23
        }
      ]
    },
    {
      "cell_type": "code",
      "metadata": {
        "colab": {
          "base_uri": "https://localhost:8080/"
        },
        "id": "OD6LqXF82MCg",
        "outputId": "c4b9399c-b49d-4d8b-84ff-d9b495aee908"
      },
      "source": [
        "files"
      ],
      "execution_count": 24,
      "outputs": [
        {
          "output_type": "execute_result",
          "data": {
            "text/plain": [
              "['/content/abc/test_0.jpg',\n",
              " '/content/abc/test_1.jpg',\n",
              " '/content/abc/test_10.jpg',\n",
              " '/content/abc/test_100.jpg',\n",
              " '/content/abc/test_101.jpg',\n",
              " '/content/abc/test_102.jpg',\n",
              " '/content/abc/test_103.jpg',\n",
              " '/content/abc/test_104.jpg',\n",
              " '/content/abc/test_105.jpg',\n",
              " '/content/abc/test_106.jpg',\n",
              " '/content/abc/test_107.jpg',\n",
              " '/content/abc/test_108.jpg',\n",
              " '/content/abc/test_109.jpg',\n",
              " '/content/abc/test_11.jpg',\n",
              " '/content/abc/test_12.jpg',\n",
              " '/content/abc/test_13.jpg',\n",
              " '/content/abc/test_14.jpg',\n",
              " '/content/abc/test_15.jpg',\n",
              " '/content/abc/test_16.jpg',\n",
              " '/content/abc/test_17.jpg',\n",
              " '/content/abc/test_18.jpg',\n",
              " '/content/abc/test_19.jpg',\n",
              " '/content/abc/test_2.jpg',\n",
              " '/content/abc/test_20.jpg',\n",
              " '/content/abc/test_21.jpg',\n",
              " '/content/abc/test_22.jpg',\n",
              " '/content/abc/test_23.jpg',\n",
              " '/content/abc/test_24.jpg',\n",
              " '/content/abc/test_25.jpg',\n",
              " '/content/abc/test_26.jpg',\n",
              " '/content/abc/test_27.jpg',\n",
              " '/content/abc/test_28.jpg',\n",
              " '/content/abc/test_29.jpg',\n",
              " '/content/abc/test_3.jpg',\n",
              " '/content/abc/test_30.jpg',\n",
              " '/content/abc/test_31.jpg',\n",
              " '/content/abc/test_32.jpg',\n",
              " '/content/abc/test_33.jpg',\n",
              " '/content/abc/test_34.jpg',\n",
              " '/content/abc/test_35.jpg',\n",
              " '/content/abc/test_36.jpg',\n",
              " '/content/abc/test_37.jpg',\n",
              " '/content/abc/test_38.jpg',\n",
              " '/content/abc/test_39.jpg',\n",
              " '/content/abc/test_4.jpg',\n",
              " '/content/abc/test_40.jpg',\n",
              " '/content/abc/test_41.jpg',\n",
              " '/content/abc/test_42.jpg',\n",
              " '/content/abc/test_43.jpg',\n",
              " '/content/abc/test_44.jpg',\n",
              " '/content/abc/test_45.jpg',\n",
              " '/content/abc/test_46.jpg',\n",
              " '/content/abc/test_47.jpg',\n",
              " '/content/abc/test_48.jpg',\n",
              " '/content/abc/test_49.jpg',\n",
              " '/content/abc/test_5.jpg',\n",
              " '/content/abc/test_50.jpg',\n",
              " '/content/abc/test_51.jpg',\n",
              " '/content/abc/test_52.jpg',\n",
              " '/content/abc/test_53.jpg',\n",
              " '/content/abc/test_54.jpg',\n",
              " '/content/abc/test_55.jpg',\n",
              " '/content/abc/test_56.jpg',\n",
              " '/content/abc/test_57.jpg',\n",
              " '/content/abc/test_58.jpg',\n",
              " '/content/abc/test_59.jpg',\n",
              " '/content/abc/test_6.jpg',\n",
              " '/content/abc/test_60.jpg',\n",
              " '/content/abc/test_61.jpg',\n",
              " '/content/abc/test_62.jpg',\n",
              " '/content/abc/test_63.jpg',\n",
              " '/content/abc/test_64.jpg',\n",
              " '/content/abc/test_65.jpg',\n",
              " '/content/abc/test_66.jpg',\n",
              " '/content/abc/test_67.jpg',\n",
              " '/content/abc/test_68.jpg',\n",
              " '/content/abc/test_69.jpg',\n",
              " '/content/abc/test_7.jpg',\n",
              " '/content/abc/test_70.jpg',\n",
              " '/content/abc/test_71.jpg',\n",
              " '/content/abc/test_72.jpg',\n",
              " '/content/abc/test_73.jpg',\n",
              " '/content/abc/test_74.jpg',\n",
              " '/content/abc/test_75.jpg',\n",
              " '/content/abc/test_76.jpg',\n",
              " '/content/abc/test_77.jpg',\n",
              " '/content/abc/test_78.jpg',\n",
              " '/content/abc/test_79.jpg',\n",
              " '/content/abc/test_8.jpg',\n",
              " '/content/abc/test_80.jpg',\n",
              " '/content/abc/test_81.jpg',\n",
              " '/content/abc/test_82.jpg',\n",
              " '/content/abc/test_83.jpg',\n",
              " '/content/abc/test_84.jpg',\n",
              " '/content/abc/test_85.jpg',\n",
              " '/content/abc/test_86.jpg',\n",
              " '/content/abc/test_87.jpg',\n",
              " '/content/abc/test_88.jpg',\n",
              " '/content/abc/test_89.jpg',\n",
              " '/content/abc/test_9.jpg',\n",
              " '/content/abc/test_90.jpg',\n",
              " '/content/abc/test_91.jpg',\n",
              " '/content/abc/test_92.jpg',\n",
              " '/content/abc/test_93.jpg',\n",
              " '/content/abc/test_94.jpg',\n",
              " '/content/abc/test_95.jpg',\n",
              " '/content/abc/test_96.jpg',\n",
              " '/content/abc/test_97.jpg',\n",
              " '/content/abc/test_98.jpg',\n",
              " '/content/abc/test_99.jpg']"
            ]
          },
          "metadata": {
            "tags": []
          },
          "execution_count": 24
        }
      ]
    },
    {
      "cell_type": "code",
      "metadata": {
        "id": "I5aoU7PE4J3f"
      },
      "source": [
        "filenamenew = [i.split('/')[3] for i in files]"
      ],
      "execution_count": 25,
      "outputs": []
    },
    {
      "cell_type": "code",
      "metadata": {
        "colab": {
          "base_uri": "https://localhost:8080/"
        },
        "id": "Zthxdh8W5CHE",
        "outputId": "7fbe67a7-ac5b-467f-e9a6-bdf4e5e5274b"
      },
      "source": [
        "filenamenew"
      ],
      "execution_count": 26,
      "outputs": [
        {
          "output_type": "execute_result",
          "data": {
            "text/plain": [
              "['test_0.jpg',\n",
              " 'test_1.jpg',\n",
              " 'test_10.jpg',\n",
              " 'test_100.jpg',\n",
              " 'test_101.jpg',\n",
              " 'test_102.jpg',\n",
              " 'test_103.jpg',\n",
              " 'test_104.jpg',\n",
              " 'test_105.jpg',\n",
              " 'test_106.jpg',\n",
              " 'test_107.jpg',\n",
              " 'test_108.jpg',\n",
              " 'test_109.jpg',\n",
              " 'test_11.jpg',\n",
              " 'test_12.jpg',\n",
              " 'test_13.jpg',\n",
              " 'test_14.jpg',\n",
              " 'test_15.jpg',\n",
              " 'test_16.jpg',\n",
              " 'test_17.jpg',\n",
              " 'test_18.jpg',\n",
              " 'test_19.jpg',\n",
              " 'test_2.jpg',\n",
              " 'test_20.jpg',\n",
              " 'test_21.jpg',\n",
              " 'test_22.jpg',\n",
              " 'test_23.jpg',\n",
              " 'test_24.jpg',\n",
              " 'test_25.jpg',\n",
              " 'test_26.jpg',\n",
              " 'test_27.jpg',\n",
              " 'test_28.jpg',\n",
              " 'test_29.jpg',\n",
              " 'test_3.jpg',\n",
              " 'test_30.jpg',\n",
              " 'test_31.jpg',\n",
              " 'test_32.jpg',\n",
              " 'test_33.jpg',\n",
              " 'test_34.jpg',\n",
              " 'test_35.jpg',\n",
              " 'test_36.jpg',\n",
              " 'test_37.jpg',\n",
              " 'test_38.jpg',\n",
              " 'test_39.jpg',\n",
              " 'test_4.jpg',\n",
              " 'test_40.jpg',\n",
              " 'test_41.jpg',\n",
              " 'test_42.jpg',\n",
              " 'test_43.jpg',\n",
              " 'test_44.jpg',\n",
              " 'test_45.jpg',\n",
              " 'test_46.jpg',\n",
              " 'test_47.jpg',\n",
              " 'test_48.jpg',\n",
              " 'test_49.jpg',\n",
              " 'test_5.jpg',\n",
              " 'test_50.jpg',\n",
              " 'test_51.jpg',\n",
              " 'test_52.jpg',\n",
              " 'test_53.jpg',\n",
              " 'test_54.jpg',\n",
              " 'test_55.jpg',\n",
              " 'test_56.jpg',\n",
              " 'test_57.jpg',\n",
              " 'test_58.jpg',\n",
              " 'test_59.jpg',\n",
              " 'test_6.jpg',\n",
              " 'test_60.jpg',\n",
              " 'test_61.jpg',\n",
              " 'test_62.jpg',\n",
              " 'test_63.jpg',\n",
              " 'test_64.jpg',\n",
              " 'test_65.jpg',\n",
              " 'test_66.jpg',\n",
              " 'test_67.jpg',\n",
              " 'test_68.jpg',\n",
              " 'test_69.jpg',\n",
              " 'test_7.jpg',\n",
              " 'test_70.jpg',\n",
              " 'test_71.jpg',\n",
              " 'test_72.jpg',\n",
              " 'test_73.jpg',\n",
              " 'test_74.jpg',\n",
              " 'test_75.jpg',\n",
              " 'test_76.jpg',\n",
              " 'test_77.jpg',\n",
              " 'test_78.jpg',\n",
              " 'test_79.jpg',\n",
              " 'test_8.jpg',\n",
              " 'test_80.jpg',\n",
              " 'test_81.jpg',\n",
              " 'test_82.jpg',\n",
              " 'test_83.jpg',\n",
              " 'test_84.jpg',\n",
              " 'test_85.jpg',\n",
              " 'test_86.jpg',\n",
              " 'test_87.jpg',\n",
              " 'test_88.jpg',\n",
              " 'test_89.jpg',\n",
              " 'test_9.jpg',\n",
              " 'test_90.jpg',\n",
              " 'test_91.jpg',\n",
              " 'test_92.jpg',\n",
              " 'test_93.jpg',\n",
              " 'test_94.jpg',\n",
              " 'test_95.jpg',\n",
              " 'test_96.jpg',\n",
              " 'test_97.jpg',\n",
              " 'test_98.jpg',\n",
              " 'test_99.jpg']"
            ]
          },
          "metadata": {
            "tags": []
          },
          "execution_count": 26
        }
      ]
    },
    {
      "cell_type": "code",
      "metadata": {
        "id": "43tPCUJM5bEz"
      },
      "source": [
        "index = []\n",
        "for i in range(len(filenamenew)):\n",
        "  index.append(i)"
      ],
      "execution_count": 27,
      "outputs": []
    },
    {
      "cell_type": "code",
      "metadata": {
        "colab": {
          "base_uri": "https://localhost:8080/"
        },
        "id": "MVX0-soa55le",
        "outputId": "cf6e71be-cf99-412b-ceae-97101c94f644"
      },
      "source": [
        "index"
      ],
      "execution_count": 28,
      "outputs": [
        {
          "output_type": "execute_result",
          "data": {
            "text/plain": [
              "[0,\n",
              " 1,\n",
              " 2,\n",
              " 3,\n",
              " 4,\n",
              " 5,\n",
              " 6,\n",
              " 7,\n",
              " 8,\n",
              " 9,\n",
              " 10,\n",
              " 11,\n",
              " 12,\n",
              " 13,\n",
              " 14,\n",
              " 15,\n",
              " 16,\n",
              " 17,\n",
              " 18,\n",
              " 19,\n",
              " 20,\n",
              " 21,\n",
              " 22,\n",
              " 23,\n",
              " 24,\n",
              " 25,\n",
              " 26,\n",
              " 27,\n",
              " 28,\n",
              " 29,\n",
              " 30,\n",
              " 31,\n",
              " 32,\n",
              " 33,\n",
              " 34,\n",
              " 35,\n",
              " 36,\n",
              " 37,\n",
              " 38,\n",
              " 39,\n",
              " 40,\n",
              " 41,\n",
              " 42,\n",
              " 43,\n",
              " 44,\n",
              " 45,\n",
              " 46,\n",
              " 47,\n",
              " 48,\n",
              " 49,\n",
              " 50,\n",
              " 51,\n",
              " 52,\n",
              " 53,\n",
              " 54,\n",
              " 55,\n",
              " 56,\n",
              " 57,\n",
              " 58,\n",
              " 59,\n",
              " 60,\n",
              " 61,\n",
              " 62,\n",
              " 63,\n",
              " 64,\n",
              " 65,\n",
              " 66,\n",
              " 67,\n",
              " 68,\n",
              " 69,\n",
              " 70,\n",
              " 71,\n",
              " 72,\n",
              " 73,\n",
              " 74,\n",
              " 75,\n",
              " 76,\n",
              " 77,\n",
              " 78,\n",
              " 79,\n",
              " 80,\n",
              " 81,\n",
              " 82,\n",
              " 83,\n",
              " 84,\n",
              " 85,\n",
              " 86,\n",
              " 87,\n",
              " 88,\n",
              " 89,\n",
              " 90,\n",
              " 91,\n",
              " 92,\n",
              " 93,\n",
              " 94,\n",
              " 95,\n",
              " 96,\n",
              " 97,\n",
              " 98,\n",
              " 99,\n",
              " 100,\n",
              " 101,\n",
              " 102,\n",
              " 103,\n",
              " 104,\n",
              " 105,\n",
              " 106,\n",
              " 107,\n",
              " 108,\n",
              " 109]"
            ]
          },
          "metadata": {
            "tags": []
          },
          "execution_count": 28
        }
      ]
    },
    {
      "cell_type": "code",
      "metadata": {
        "id": "RPjsA9kJ5QnB"
      },
      "source": [
        "df = pd.DataFrame()\n",
        "# df['index'] = index\n",
        "df['images'] = filenamenew"
      ],
      "execution_count": 29,
      "outputs": []
    },
    {
      "cell_type": "code",
      "metadata": {
        "colab": {
          "base_uri": "https://localhost:8080/",
          "height": 402
        },
        "id": "LZEBOwYs6Uvj",
        "outputId": "a2815308-67af-4793-e944-a87247d11b99"
      },
      "source": [
        "df"
      ],
      "execution_count": 30,
      "outputs": [
        {
          "output_type": "execute_result",
          "data": {
            "text/html": [
              "<div>\n",
              "<style scoped>\n",
              "    .dataframe tbody tr th:only-of-type {\n",
              "        vertical-align: middle;\n",
              "    }\n",
              "\n",
              "    .dataframe tbody tr th {\n",
              "        vertical-align: top;\n",
              "    }\n",
              "\n",
              "    .dataframe thead th {\n",
              "        text-align: right;\n",
              "    }\n",
              "</style>\n",
              "<table border=\"1\" class=\"dataframe\">\n",
              "  <thead>\n",
              "    <tr style=\"text-align: right;\">\n",
              "      <th></th>\n",
              "      <th>images</th>\n",
              "    </tr>\n",
              "  </thead>\n",
              "  <tbody>\n",
              "    <tr>\n",
              "      <th>0</th>\n",
              "      <td>test_0.jpg</td>\n",
              "    </tr>\n",
              "    <tr>\n",
              "      <th>1</th>\n",
              "      <td>test_1.jpg</td>\n",
              "    </tr>\n",
              "    <tr>\n",
              "      <th>2</th>\n",
              "      <td>test_10.jpg</td>\n",
              "    </tr>\n",
              "    <tr>\n",
              "      <th>3</th>\n",
              "      <td>test_100.jpg</td>\n",
              "    </tr>\n",
              "    <tr>\n",
              "      <th>4</th>\n",
              "      <td>test_101.jpg</td>\n",
              "    </tr>\n",
              "    <tr>\n",
              "      <th>...</th>\n",
              "      <td>...</td>\n",
              "    </tr>\n",
              "    <tr>\n",
              "      <th>105</th>\n",
              "      <td>test_95.jpg</td>\n",
              "    </tr>\n",
              "    <tr>\n",
              "      <th>106</th>\n",
              "      <td>test_96.jpg</td>\n",
              "    </tr>\n",
              "    <tr>\n",
              "      <th>107</th>\n",
              "      <td>test_97.jpg</td>\n",
              "    </tr>\n",
              "    <tr>\n",
              "      <th>108</th>\n",
              "      <td>test_98.jpg</td>\n",
              "    </tr>\n",
              "    <tr>\n",
              "      <th>109</th>\n",
              "      <td>test_99.jpg</td>\n",
              "    </tr>\n",
              "  </tbody>\n",
              "</table>\n",
              "<p>110 rows × 1 columns</p>\n",
              "</div>"
            ],
            "text/plain": [
              "           images\n",
              "0      test_0.jpg\n",
              "1      test_1.jpg\n",
              "2     test_10.jpg\n",
              "3    test_100.jpg\n",
              "4    test_101.jpg\n",
              "..            ...\n",
              "105   test_95.jpg\n",
              "106   test_96.jpg\n",
              "107   test_97.jpg\n",
              "108   test_98.jpg\n",
              "109   test_99.jpg\n",
              "\n",
              "[110 rows x 1 columns]"
            ]
          },
          "metadata": {
            "tags": []
          },
          "execution_count": 30
        }
      ]
    },
    {
      "cell_type": "code",
      "metadata": {
        "colab": {
          "base_uri": "https://localhost:8080/",
          "height": 402
        },
        "id": "vPSoDDs865-T",
        "outputId": "5cd50b4f-f1d0-4496-8c31-165928991479"
      },
      "source": [
        "indi_df = pd.DataFrame(indices)\n",
        "indi_df"
      ],
      "execution_count": 31,
      "outputs": [
        {
          "output_type": "execute_result",
          "data": {
            "text/html": [
              "<div>\n",
              "<style scoped>\n",
              "    .dataframe tbody tr th:only-of-type {\n",
              "        vertical-align: middle;\n",
              "    }\n",
              "\n",
              "    .dataframe tbody tr th {\n",
              "        vertical-align: top;\n",
              "    }\n",
              "\n",
              "    .dataframe thead th {\n",
              "        text-align: right;\n",
              "    }\n",
              "</style>\n",
              "<table border=\"1\" class=\"dataframe\">\n",
              "  <thead>\n",
              "    <tr style=\"text-align: right;\">\n",
              "      <th></th>\n",
              "      <th>0</th>\n",
              "      <th>1</th>\n",
              "      <th>2</th>\n",
              "      <th>3</th>\n",
              "      <th>4</th>\n",
              "      <th>5</th>\n",
              "      <th>6</th>\n",
              "      <th>7</th>\n",
              "      <th>8</th>\n",
              "      <th>9</th>\n",
              "    </tr>\n",
              "  </thead>\n",
              "  <tbody>\n",
              "    <tr>\n",
              "      <th>0</th>\n",
              "      <td>0</td>\n",
              "      <td>1</td>\n",
              "      <td>69</td>\n",
              "      <td>68</td>\n",
              "      <td>108</td>\n",
              "      <td>55</td>\n",
              "      <td>103</td>\n",
              "      <td>36</td>\n",
              "      <td>101</td>\n",
              "      <td>106</td>\n",
              "    </tr>\n",
              "    <tr>\n",
              "      <th>1</th>\n",
              "      <td>0</td>\n",
              "      <td>1</td>\n",
              "      <td>69</td>\n",
              "      <td>68</td>\n",
              "      <td>108</td>\n",
              "      <td>55</td>\n",
              "      <td>103</td>\n",
              "      <td>36</td>\n",
              "      <td>101</td>\n",
              "      <td>106</td>\n",
              "    </tr>\n",
              "    <tr>\n",
              "      <th>2</th>\n",
              "      <td>2</td>\n",
              "      <td>41</td>\n",
              "      <td>38</td>\n",
              "      <td>100</td>\n",
              "      <td>107</td>\n",
              "      <td>28</td>\n",
              "      <td>84</td>\n",
              "      <td>60</td>\n",
              "      <td>64</td>\n",
              "      <td>76</td>\n",
              "    </tr>\n",
              "    <tr>\n",
              "      <th>3</th>\n",
              "      <td>3</td>\n",
              "      <td>18</td>\n",
              "      <td>24</td>\n",
              "      <td>23</td>\n",
              "      <td>68</td>\n",
              "      <td>42</td>\n",
              "      <td>29</td>\n",
              "      <td>99</td>\n",
              "      <td>27</td>\n",
              "      <td>20</td>\n",
              "    </tr>\n",
              "    <tr>\n",
              "      <th>4</th>\n",
              "      <td>4</td>\n",
              "      <td>103</td>\n",
              "      <td>82</td>\n",
              "      <td>27</td>\n",
              "      <td>69</td>\n",
              "      <td>1</td>\n",
              "      <td>0</td>\n",
              "      <td>94</td>\n",
              "      <td>29</td>\n",
              "      <td>85</td>\n",
              "    </tr>\n",
              "    <tr>\n",
              "      <th>...</th>\n",
              "      <td>...</td>\n",
              "      <td>...</td>\n",
              "      <td>...</td>\n",
              "      <td>...</td>\n",
              "      <td>...</td>\n",
              "      <td>...</td>\n",
              "      <td>...</td>\n",
              "      <td>...</td>\n",
              "      <td>...</td>\n",
              "      <td>...</td>\n",
              "    </tr>\n",
              "    <tr>\n",
              "      <th>105</th>\n",
              "      <td>105</td>\n",
              "      <td>59</td>\n",
              "      <td>14</td>\n",
              "      <td>15</td>\n",
              "      <td>109</td>\n",
              "      <td>49</td>\n",
              "      <td>85</td>\n",
              "      <td>34</td>\n",
              "      <td>31</td>\n",
              "      <td>103</td>\n",
              "    </tr>\n",
              "    <tr>\n",
              "      <th>106</th>\n",
              "      <td>106</td>\n",
              "      <td>69</td>\n",
              "      <td>61</td>\n",
              "      <td>55</td>\n",
              "      <td>68</td>\n",
              "      <td>103</td>\n",
              "      <td>101</td>\n",
              "      <td>25</td>\n",
              "      <td>85</td>\n",
              "      <td>9</td>\n",
              "    </tr>\n",
              "    <tr>\n",
              "      <th>107</th>\n",
              "      <td>107</td>\n",
              "      <td>60</td>\n",
              "      <td>75</td>\n",
              "      <td>50</td>\n",
              "      <td>98</td>\n",
              "      <td>100</td>\n",
              "      <td>38</td>\n",
              "      <td>95</td>\n",
              "      <td>76</td>\n",
              "      <td>19</td>\n",
              "    </tr>\n",
              "    <tr>\n",
              "      <th>108</th>\n",
              "      <td>108</td>\n",
              "      <td>1</td>\n",
              "      <td>0</td>\n",
              "      <td>69</td>\n",
              "      <td>68</td>\n",
              "      <td>55</td>\n",
              "      <td>25</td>\n",
              "      <td>36</td>\n",
              "      <td>61</td>\n",
              "      <td>45</td>\n",
              "    </tr>\n",
              "    <tr>\n",
              "      <th>109</th>\n",
              "      <td>109</td>\n",
              "      <td>9</td>\n",
              "      <td>88</td>\n",
              "      <td>19</td>\n",
              "      <td>83</td>\n",
              "      <td>28</td>\n",
              "      <td>52</td>\n",
              "      <td>27</td>\n",
              "      <td>85</td>\n",
              "      <td>95</td>\n",
              "    </tr>\n",
              "  </tbody>\n",
              "</table>\n",
              "<p>110 rows × 10 columns</p>\n",
              "</div>"
            ],
            "text/plain": [
              "       0    1   2    3    4    5    6   7    8    9\n",
              "0      0    1  69   68  108   55  103  36  101  106\n",
              "1      0    1  69   68  108   55  103  36  101  106\n",
              "2      2   41  38  100  107   28   84  60   64   76\n",
              "3      3   18  24   23   68   42   29  99   27   20\n",
              "4      4  103  82   27   69    1    0  94   29   85\n",
              "..   ...  ...  ..  ...  ...  ...  ...  ..  ...  ...\n",
              "105  105   59  14   15  109   49   85  34   31  103\n",
              "106  106   69  61   55   68  103  101  25   85    9\n",
              "107  107   60  75   50   98  100   38  95   76   19\n",
              "108  108    1   0   69   68   55   25  36   61   45\n",
              "109  109    9  88   19   83   28   52  27   85   95\n",
              "\n",
              "[110 rows x 10 columns]"
            ]
          },
          "metadata": {
            "tags": []
          },
          "execution_count": 31
        }
      ]
    },
    {
      "cell_type": "code",
      "metadata": {
        "id": "F-E6qTL--DSD"
      },
      "source": [
        "# # for i in indices_df.items:\n",
        "#   if i = df['']"
      ],
      "execution_count": null,
      "outputs": []
    },
    {
      "cell_type": "code",
      "metadata": {
        "colab": {
          "base_uri": "https://localhost:8080/",
          "height": 402
        },
        "id": "hfqG5mOEA6Oq",
        "outputId": "c039ea3d-41d1-4cb3-a762-cb02c9c6bbe1"
      },
      "source": [
        "df"
      ],
      "execution_count": 32,
      "outputs": [
        {
          "output_type": "execute_result",
          "data": {
            "text/html": [
              "<div>\n",
              "<style scoped>\n",
              "    .dataframe tbody tr th:only-of-type {\n",
              "        vertical-align: middle;\n",
              "    }\n",
              "\n",
              "    .dataframe tbody tr th {\n",
              "        vertical-align: top;\n",
              "    }\n",
              "\n",
              "    .dataframe thead th {\n",
              "        text-align: right;\n",
              "    }\n",
              "</style>\n",
              "<table border=\"1\" class=\"dataframe\">\n",
              "  <thead>\n",
              "    <tr style=\"text-align: right;\">\n",
              "      <th></th>\n",
              "      <th>images</th>\n",
              "    </tr>\n",
              "  </thead>\n",
              "  <tbody>\n",
              "    <tr>\n",
              "      <th>0</th>\n",
              "      <td>test_0.jpg</td>\n",
              "    </tr>\n",
              "    <tr>\n",
              "      <th>1</th>\n",
              "      <td>test_1.jpg</td>\n",
              "    </tr>\n",
              "    <tr>\n",
              "      <th>2</th>\n",
              "      <td>test_10.jpg</td>\n",
              "    </tr>\n",
              "    <tr>\n",
              "      <th>3</th>\n",
              "      <td>test_100.jpg</td>\n",
              "    </tr>\n",
              "    <tr>\n",
              "      <th>4</th>\n",
              "      <td>test_101.jpg</td>\n",
              "    </tr>\n",
              "    <tr>\n",
              "      <th>...</th>\n",
              "      <td>...</td>\n",
              "    </tr>\n",
              "    <tr>\n",
              "      <th>105</th>\n",
              "      <td>test_95.jpg</td>\n",
              "    </tr>\n",
              "    <tr>\n",
              "      <th>106</th>\n",
              "      <td>test_96.jpg</td>\n",
              "    </tr>\n",
              "    <tr>\n",
              "      <th>107</th>\n",
              "      <td>test_97.jpg</td>\n",
              "    </tr>\n",
              "    <tr>\n",
              "      <th>108</th>\n",
              "      <td>test_98.jpg</td>\n",
              "    </tr>\n",
              "    <tr>\n",
              "      <th>109</th>\n",
              "      <td>test_99.jpg</td>\n",
              "    </tr>\n",
              "  </tbody>\n",
              "</table>\n",
              "<p>110 rows × 1 columns</p>\n",
              "</div>"
            ],
            "text/plain": [
              "           images\n",
              "0      test_0.jpg\n",
              "1      test_1.jpg\n",
              "2     test_10.jpg\n",
              "3    test_100.jpg\n",
              "4    test_101.jpg\n",
              "..            ...\n",
              "105   test_95.jpg\n",
              "106   test_96.jpg\n",
              "107   test_97.jpg\n",
              "108   test_98.jpg\n",
              "109   test_99.jpg\n",
              "\n",
              "[110 rows x 1 columns]"
            ]
          },
          "metadata": {
            "tags": []
          },
          "execution_count": 32
        }
      ]
    },
    {
      "cell_type": "code",
      "metadata": {
        "id": "v4_kNJg5FQiS"
      },
      "source": [
        "dfnew = df.to_dict()\n",
        "dfnew = dfnew['images']"
      ],
      "execution_count": 33,
      "outputs": []
    },
    {
      "cell_type": "code",
      "metadata": {
        "colab": {
          "base_uri": "https://localhost:8080/"
        },
        "id": "DDa8JT9SGjyo",
        "outputId": "f57e3ab9-eff3-47f1-a80f-bb395fa370e8"
      },
      "source": [
        "dfnew"
      ],
      "execution_count": 34,
      "outputs": [
        {
          "output_type": "execute_result",
          "data": {
            "text/plain": [
              "{0: 'test_0.jpg',\n",
              " 1: 'test_1.jpg',\n",
              " 2: 'test_10.jpg',\n",
              " 3: 'test_100.jpg',\n",
              " 4: 'test_101.jpg',\n",
              " 5: 'test_102.jpg',\n",
              " 6: 'test_103.jpg',\n",
              " 7: 'test_104.jpg',\n",
              " 8: 'test_105.jpg',\n",
              " 9: 'test_106.jpg',\n",
              " 10: 'test_107.jpg',\n",
              " 11: 'test_108.jpg',\n",
              " 12: 'test_109.jpg',\n",
              " 13: 'test_11.jpg',\n",
              " 14: 'test_12.jpg',\n",
              " 15: 'test_13.jpg',\n",
              " 16: 'test_14.jpg',\n",
              " 17: 'test_15.jpg',\n",
              " 18: 'test_16.jpg',\n",
              " 19: 'test_17.jpg',\n",
              " 20: 'test_18.jpg',\n",
              " 21: 'test_19.jpg',\n",
              " 22: 'test_2.jpg',\n",
              " 23: 'test_20.jpg',\n",
              " 24: 'test_21.jpg',\n",
              " 25: 'test_22.jpg',\n",
              " 26: 'test_23.jpg',\n",
              " 27: 'test_24.jpg',\n",
              " 28: 'test_25.jpg',\n",
              " 29: 'test_26.jpg',\n",
              " 30: 'test_27.jpg',\n",
              " 31: 'test_28.jpg',\n",
              " 32: 'test_29.jpg',\n",
              " 33: 'test_3.jpg',\n",
              " 34: 'test_30.jpg',\n",
              " 35: 'test_31.jpg',\n",
              " 36: 'test_32.jpg',\n",
              " 37: 'test_33.jpg',\n",
              " 38: 'test_34.jpg',\n",
              " 39: 'test_35.jpg',\n",
              " 40: 'test_36.jpg',\n",
              " 41: 'test_37.jpg',\n",
              " 42: 'test_38.jpg',\n",
              " 43: 'test_39.jpg',\n",
              " 44: 'test_4.jpg',\n",
              " 45: 'test_40.jpg',\n",
              " 46: 'test_41.jpg',\n",
              " 47: 'test_42.jpg',\n",
              " 48: 'test_43.jpg',\n",
              " 49: 'test_44.jpg',\n",
              " 50: 'test_45.jpg',\n",
              " 51: 'test_46.jpg',\n",
              " 52: 'test_47.jpg',\n",
              " 53: 'test_48.jpg',\n",
              " 54: 'test_49.jpg',\n",
              " 55: 'test_5.jpg',\n",
              " 56: 'test_50.jpg',\n",
              " 57: 'test_51.jpg',\n",
              " 58: 'test_52.jpg',\n",
              " 59: 'test_53.jpg',\n",
              " 60: 'test_54.jpg',\n",
              " 61: 'test_55.jpg',\n",
              " 62: 'test_56.jpg',\n",
              " 63: 'test_57.jpg',\n",
              " 64: 'test_58.jpg',\n",
              " 65: 'test_59.jpg',\n",
              " 66: 'test_6.jpg',\n",
              " 67: 'test_60.jpg',\n",
              " 68: 'test_61.jpg',\n",
              " 69: 'test_62.jpg',\n",
              " 70: 'test_63.jpg',\n",
              " 71: 'test_64.jpg',\n",
              " 72: 'test_65.jpg',\n",
              " 73: 'test_66.jpg',\n",
              " 74: 'test_67.jpg',\n",
              " 75: 'test_68.jpg',\n",
              " 76: 'test_69.jpg',\n",
              " 77: 'test_7.jpg',\n",
              " 78: 'test_70.jpg',\n",
              " 79: 'test_71.jpg',\n",
              " 80: 'test_72.jpg',\n",
              " 81: 'test_73.jpg',\n",
              " 82: 'test_74.jpg',\n",
              " 83: 'test_75.jpg',\n",
              " 84: 'test_76.jpg',\n",
              " 85: 'test_77.jpg',\n",
              " 86: 'test_78.jpg',\n",
              " 87: 'test_79.jpg',\n",
              " 88: 'test_8.jpg',\n",
              " 89: 'test_80.jpg',\n",
              " 90: 'test_81.jpg',\n",
              " 91: 'test_82.jpg',\n",
              " 92: 'test_83.jpg',\n",
              " 93: 'test_84.jpg',\n",
              " 94: 'test_85.jpg',\n",
              " 95: 'test_86.jpg',\n",
              " 96: 'test_87.jpg',\n",
              " 97: 'test_88.jpg',\n",
              " 98: 'test_89.jpg',\n",
              " 99: 'test_9.jpg',\n",
              " 100: 'test_90.jpg',\n",
              " 101: 'test_91.jpg',\n",
              " 102: 'test_92.jpg',\n",
              " 103: 'test_93.jpg',\n",
              " 104: 'test_94.jpg',\n",
              " 105: 'test_95.jpg',\n",
              " 106: 'test_96.jpg',\n",
              " 107: 'test_97.jpg',\n",
              " 108: 'test_98.jpg',\n",
              " 109: 'test_99.jpg'}"
            ]
          },
          "metadata": {
            "tags": []
          },
          "execution_count": 34
        }
      ]
    },
    {
      "cell_type": "code",
      "metadata": {
        "colab": {
          "base_uri": "https://localhost:8080/",
          "height": 402
        },
        "id": "JJXTigFgAsN3",
        "outputId": "151e4743-b9e9-47ee-e870-6197b69ad3d7"
      },
      "source": [
        "indi_df"
      ],
      "execution_count": 35,
      "outputs": [
        {
          "output_type": "execute_result",
          "data": {
            "text/html": [
              "<div>\n",
              "<style scoped>\n",
              "    .dataframe tbody tr th:only-of-type {\n",
              "        vertical-align: middle;\n",
              "    }\n",
              "\n",
              "    .dataframe tbody tr th {\n",
              "        vertical-align: top;\n",
              "    }\n",
              "\n",
              "    .dataframe thead th {\n",
              "        text-align: right;\n",
              "    }\n",
              "</style>\n",
              "<table border=\"1\" class=\"dataframe\">\n",
              "  <thead>\n",
              "    <tr style=\"text-align: right;\">\n",
              "      <th></th>\n",
              "      <th>0</th>\n",
              "      <th>1</th>\n",
              "      <th>2</th>\n",
              "      <th>3</th>\n",
              "      <th>4</th>\n",
              "      <th>5</th>\n",
              "      <th>6</th>\n",
              "      <th>7</th>\n",
              "      <th>8</th>\n",
              "      <th>9</th>\n",
              "    </tr>\n",
              "  </thead>\n",
              "  <tbody>\n",
              "    <tr>\n",
              "      <th>0</th>\n",
              "      <td>0</td>\n",
              "      <td>1</td>\n",
              "      <td>69</td>\n",
              "      <td>68</td>\n",
              "      <td>108</td>\n",
              "      <td>55</td>\n",
              "      <td>103</td>\n",
              "      <td>36</td>\n",
              "      <td>101</td>\n",
              "      <td>106</td>\n",
              "    </tr>\n",
              "    <tr>\n",
              "      <th>1</th>\n",
              "      <td>0</td>\n",
              "      <td>1</td>\n",
              "      <td>69</td>\n",
              "      <td>68</td>\n",
              "      <td>108</td>\n",
              "      <td>55</td>\n",
              "      <td>103</td>\n",
              "      <td>36</td>\n",
              "      <td>101</td>\n",
              "      <td>106</td>\n",
              "    </tr>\n",
              "    <tr>\n",
              "      <th>2</th>\n",
              "      <td>2</td>\n",
              "      <td>41</td>\n",
              "      <td>38</td>\n",
              "      <td>100</td>\n",
              "      <td>107</td>\n",
              "      <td>28</td>\n",
              "      <td>84</td>\n",
              "      <td>60</td>\n",
              "      <td>64</td>\n",
              "      <td>76</td>\n",
              "    </tr>\n",
              "    <tr>\n",
              "      <th>3</th>\n",
              "      <td>3</td>\n",
              "      <td>18</td>\n",
              "      <td>24</td>\n",
              "      <td>23</td>\n",
              "      <td>68</td>\n",
              "      <td>42</td>\n",
              "      <td>29</td>\n",
              "      <td>99</td>\n",
              "      <td>27</td>\n",
              "      <td>20</td>\n",
              "    </tr>\n",
              "    <tr>\n",
              "      <th>4</th>\n",
              "      <td>4</td>\n",
              "      <td>103</td>\n",
              "      <td>82</td>\n",
              "      <td>27</td>\n",
              "      <td>69</td>\n",
              "      <td>1</td>\n",
              "      <td>0</td>\n",
              "      <td>94</td>\n",
              "      <td>29</td>\n",
              "      <td>85</td>\n",
              "    </tr>\n",
              "    <tr>\n",
              "      <th>...</th>\n",
              "      <td>...</td>\n",
              "      <td>...</td>\n",
              "      <td>...</td>\n",
              "      <td>...</td>\n",
              "      <td>...</td>\n",
              "      <td>...</td>\n",
              "      <td>...</td>\n",
              "      <td>...</td>\n",
              "      <td>...</td>\n",
              "      <td>...</td>\n",
              "    </tr>\n",
              "    <tr>\n",
              "      <th>105</th>\n",
              "      <td>105</td>\n",
              "      <td>59</td>\n",
              "      <td>14</td>\n",
              "      <td>15</td>\n",
              "      <td>109</td>\n",
              "      <td>49</td>\n",
              "      <td>85</td>\n",
              "      <td>34</td>\n",
              "      <td>31</td>\n",
              "      <td>103</td>\n",
              "    </tr>\n",
              "    <tr>\n",
              "      <th>106</th>\n",
              "      <td>106</td>\n",
              "      <td>69</td>\n",
              "      <td>61</td>\n",
              "      <td>55</td>\n",
              "      <td>68</td>\n",
              "      <td>103</td>\n",
              "      <td>101</td>\n",
              "      <td>25</td>\n",
              "      <td>85</td>\n",
              "      <td>9</td>\n",
              "    </tr>\n",
              "    <tr>\n",
              "      <th>107</th>\n",
              "      <td>107</td>\n",
              "      <td>60</td>\n",
              "      <td>75</td>\n",
              "      <td>50</td>\n",
              "      <td>98</td>\n",
              "      <td>100</td>\n",
              "      <td>38</td>\n",
              "      <td>95</td>\n",
              "      <td>76</td>\n",
              "      <td>19</td>\n",
              "    </tr>\n",
              "    <tr>\n",
              "      <th>108</th>\n",
              "      <td>108</td>\n",
              "      <td>1</td>\n",
              "      <td>0</td>\n",
              "      <td>69</td>\n",
              "      <td>68</td>\n",
              "      <td>55</td>\n",
              "      <td>25</td>\n",
              "      <td>36</td>\n",
              "      <td>61</td>\n",
              "      <td>45</td>\n",
              "    </tr>\n",
              "    <tr>\n",
              "      <th>109</th>\n",
              "      <td>109</td>\n",
              "      <td>9</td>\n",
              "      <td>88</td>\n",
              "      <td>19</td>\n",
              "      <td>83</td>\n",
              "      <td>28</td>\n",
              "      <td>52</td>\n",
              "      <td>27</td>\n",
              "      <td>85</td>\n",
              "      <td>95</td>\n",
              "    </tr>\n",
              "  </tbody>\n",
              "</table>\n",
              "<p>110 rows × 10 columns</p>\n",
              "</div>"
            ],
            "text/plain": [
              "       0    1   2    3    4    5    6   7    8    9\n",
              "0      0    1  69   68  108   55  103  36  101  106\n",
              "1      0    1  69   68  108   55  103  36  101  106\n",
              "2      2   41  38  100  107   28   84  60   64   76\n",
              "3      3   18  24   23   68   42   29  99   27   20\n",
              "4      4  103  82   27   69    1    0  94   29   85\n",
              "..   ...  ...  ..  ...  ...  ...  ...  ..  ...  ...\n",
              "105  105   59  14   15  109   49   85  34   31  103\n",
              "106  106   69  61   55   68  103  101  25   85    9\n",
              "107  107   60  75   50   98  100   38  95   76   19\n",
              "108  108    1   0   69   68   55   25  36   61   45\n",
              "109  109    9  88   19   83   28   52  27   85   95\n",
              "\n",
              "[110 rows x 10 columns]"
            ]
          },
          "metadata": {
            "tags": []
          },
          "execution_count": 35
        }
      ]
    },
    {
      "cell_type": "code",
      "metadata": {
        "colab": {
          "base_uri": "https://localhost:8080/",
          "height": 402
        },
        "id": "uG7JqO2tRok_",
        "outputId": "bea5ae7c-e91c-4005-c432-003b458f0921"
      },
      "source": [
        "indi_df = indi_df.replace(dfnew)\n",
        "indi_df"
      ],
      "execution_count": 36,
      "outputs": [
        {
          "output_type": "execute_result",
          "data": {
            "text/html": [
              "<div>\n",
              "<style scoped>\n",
              "    .dataframe tbody tr th:only-of-type {\n",
              "        vertical-align: middle;\n",
              "    }\n",
              "\n",
              "    .dataframe tbody tr th {\n",
              "        vertical-align: top;\n",
              "    }\n",
              "\n",
              "    .dataframe thead th {\n",
              "        text-align: right;\n",
              "    }\n",
              "</style>\n",
              "<table border=\"1\" class=\"dataframe\">\n",
              "  <thead>\n",
              "    <tr style=\"text-align: right;\">\n",
              "      <th></th>\n",
              "      <th>0</th>\n",
              "      <th>1</th>\n",
              "      <th>2</th>\n",
              "      <th>3</th>\n",
              "      <th>4</th>\n",
              "      <th>5</th>\n",
              "      <th>6</th>\n",
              "      <th>7</th>\n",
              "      <th>8</th>\n",
              "      <th>9</th>\n",
              "    </tr>\n",
              "  </thead>\n",
              "  <tbody>\n",
              "    <tr>\n",
              "      <th>0</th>\n",
              "      <td>test_0.jpg</td>\n",
              "      <td>test_1.jpg</td>\n",
              "      <td>test_62.jpg</td>\n",
              "      <td>test_61.jpg</td>\n",
              "      <td>test_98.jpg</td>\n",
              "      <td>test_5.jpg</td>\n",
              "      <td>test_93.jpg</td>\n",
              "      <td>test_32.jpg</td>\n",
              "      <td>test_91.jpg</td>\n",
              "      <td>test_96.jpg</td>\n",
              "    </tr>\n",
              "    <tr>\n",
              "      <th>1</th>\n",
              "      <td>test_0.jpg</td>\n",
              "      <td>test_1.jpg</td>\n",
              "      <td>test_62.jpg</td>\n",
              "      <td>test_61.jpg</td>\n",
              "      <td>test_98.jpg</td>\n",
              "      <td>test_5.jpg</td>\n",
              "      <td>test_93.jpg</td>\n",
              "      <td>test_32.jpg</td>\n",
              "      <td>test_91.jpg</td>\n",
              "      <td>test_96.jpg</td>\n",
              "    </tr>\n",
              "    <tr>\n",
              "      <th>2</th>\n",
              "      <td>test_10.jpg</td>\n",
              "      <td>test_37.jpg</td>\n",
              "      <td>test_34.jpg</td>\n",
              "      <td>test_90.jpg</td>\n",
              "      <td>test_97.jpg</td>\n",
              "      <td>test_25.jpg</td>\n",
              "      <td>test_76.jpg</td>\n",
              "      <td>test_54.jpg</td>\n",
              "      <td>test_58.jpg</td>\n",
              "      <td>test_69.jpg</td>\n",
              "    </tr>\n",
              "    <tr>\n",
              "      <th>3</th>\n",
              "      <td>test_100.jpg</td>\n",
              "      <td>test_16.jpg</td>\n",
              "      <td>test_21.jpg</td>\n",
              "      <td>test_20.jpg</td>\n",
              "      <td>test_61.jpg</td>\n",
              "      <td>test_38.jpg</td>\n",
              "      <td>test_26.jpg</td>\n",
              "      <td>test_9.jpg</td>\n",
              "      <td>test_24.jpg</td>\n",
              "      <td>test_18.jpg</td>\n",
              "    </tr>\n",
              "    <tr>\n",
              "      <th>4</th>\n",
              "      <td>test_101.jpg</td>\n",
              "      <td>test_93.jpg</td>\n",
              "      <td>test_74.jpg</td>\n",
              "      <td>test_24.jpg</td>\n",
              "      <td>test_62.jpg</td>\n",
              "      <td>test_1.jpg</td>\n",
              "      <td>test_0.jpg</td>\n",
              "      <td>test_85.jpg</td>\n",
              "      <td>test_26.jpg</td>\n",
              "      <td>test_77.jpg</td>\n",
              "    </tr>\n",
              "    <tr>\n",
              "      <th>...</th>\n",
              "      <td>...</td>\n",
              "      <td>...</td>\n",
              "      <td>...</td>\n",
              "      <td>...</td>\n",
              "      <td>...</td>\n",
              "      <td>...</td>\n",
              "      <td>...</td>\n",
              "      <td>...</td>\n",
              "      <td>...</td>\n",
              "      <td>...</td>\n",
              "    </tr>\n",
              "    <tr>\n",
              "      <th>105</th>\n",
              "      <td>test_95.jpg</td>\n",
              "      <td>test_53.jpg</td>\n",
              "      <td>test_12.jpg</td>\n",
              "      <td>test_13.jpg</td>\n",
              "      <td>test_99.jpg</td>\n",
              "      <td>test_44.jpg</td>\n",
              "      <td>test_77.jpg</td>\n",
              "      <td>test_30.jpg</td>\n",
              "      <td>test_28.jpg</td>\n",
              "      <td>test_93.jpg</td>\n",
              "    </tr>\n",
              "    <tr>\n",
              "      <th>106</th>\n",
              "      <td>test_96.jpg</td>\n",
              "      <td>test_62.jpg</td>\n",
              "      <td>test_55.jpg</td>\n",
              "      <td>test_5.jpg</td>\n",
              "      <td>test_61.jpg</td>\n",
              "      <td>test_93.jpg</td>\n",
              "      <td>test_91.jpg</td>\n",
              "      <td>test_22.jpg</td>\n",
              "      <td>test_77.jpg</td>\n",
              "      <td>test_106.jpg</td>\n",
              "    </tr>\n",
              "    <tr>\n",
              "      <th>107</th>\n",
              "      <td>test_97.jpg</td>\n",
              "      <td>test_54.jpg</td>\n",
              "      <td>test_68.jpg</td>\n",
              "      <td>test_45.jpg</td>\n",
              "      <td>test_89.jpg</td>\n",
              "      <td>test_90.jpg</td>\n",
              "      <td>test_34.jpg</td>\n",
              "      <td>test_86.jpg</td>\n",
              "      <td>test_69.jpg</td>\n",
              "      <td>test_17.jpg</td>\n",
              "    </tr>\n",
              "    <tr>\n",
              "      <th>108</th>\n",
              "      <td>test_98.jpg</td>\n",
              "      <td>test_1.jpg</td>\n",
              "      <td>test_0.jpg</td>\n",
              "      <td>test_62.jpg</td>\n",
              "      <td>test_61.jpg</td>\n",
              "      <td>test_5.jpg</td>\n",
              "      <td>test_22.jpg</td>\n",
              "      <td>test_32.jpg</td>\n",
              "      <td>test_55.jpg</td>\n",
              "      <td>test_40.jpg</td>\n",
              "    </tr>\n",
              "    <tr>\n",
              "      <th>109</th>\n",
              "      <td>test_99.jpg</td>\n",
              "      <td>test_106.jpg</td>\n",
              "      <td>test_8.jpg</td>\n",
              "      <td>test_17.jpg</td>\n",
              "      <td>test_75.jpg</td>\n",
              "      <td>test_25.jpg</td>\n",
              "      <td>test_47.jpg</td>\n",
              "      <td>test_24.jpg</td>\n",
              "      <td>test_77.jpg</td>\n",
              "      <td>test_86.jpg</td>\n",
              "    </tr>\n",
              "  </tbody>\n",
              "</table>\n",
              "<p>110 rows × 10 columns</p>\n",
              "</div>"
            ],
            "text/plain": [
              "                0             1  ...            8             9\n",
              "0      test_0.jpg    test_1.jpg  ...  test_91.jpg   test_96.jpg\n",
              "1      test_0.jpg    test_1.jpg  ...  test_91.jpg   test_96.jpg\n",
              "2     test_10.jpg   test_37.jpg  ...  test_58.jpg   test_69.jpg\n",
              "3    test_100.jpg   test_16.jpg  ...  test_24.jpg   test_18.jpg\n",
              "4    test_101.jpg   test_93.jpg  ...  test_26.jpg   test_77.jpg\n",
              "..            ...           ...  ...          ...           ...\n",
              "105   test_95.jpg   test_53.jpg  ...  test_28.jpg   test_93.jpg\n",
              "106   test_96.jpg   test_62.jpg  ...  test_77.jpg  test_106.jpg\n",
              "107   test_97.jpg   test_54.jpg  ...  test_69.jpg   test_17.jpg\n",
              "108   test_98.jpg    test_1.jpg  ...  test_55.jpg   test_40.jpg\n",
              "109   test_99.jpg  test_106.jpg  ...  test_77.jpg   test_86.jpg\n",
              "\n",
              "[110 rows x 10 columns]"
            ]
          },
          "metadata": {
            "tags": []
          },
          "execution_count": 36
        }
      ]
    },
    {
      "cell_type": "code",
      "metadata": {
        "id": "FbF6wP5HRora"
      },
      "source": [
        "\n",
        "from google.colab import files\n",
        "indi_df.to_csv('faiss.csv')\n"
      ],
      "execution_count": 37,
      "outputs": []
    },
    {
      "cell_type": "code",
      "metadata": {
        "colab": {
          "base_uri": "https://localhost:8080/",
          "height": 17
        },
        "id": "XfLQNioBJoOg",
        "outputId": "e93b3aed-55b7-42c8-b727-369141cad7cc"
      },
      "source": [
        "files.download('faiss.csv')"
      ],
      "execution_count": 38,
      "outputs": [
        {
          "output_type": "display_data",
          "data": {
            "application/javascript": [
              "\n",
              "    async function download(id, filename, size) {\n",
              "      if (!google.colab.kernel.accessAllowed) {\n",
              "        return;\n",
              "      }\n",
              "      const div = document.createElement('div');\n",
              "      const label = document.createElement('label');\n",
              "      label.textContent = `Downloading \"${filename}\": `;\n",
              "      div.appendChild(label);\n",
              "      const progress = document.createElement('progress');\n",
              "      progress.max = size;\n",
              "      div.appendChild(progress);\n",
              "      document.body.appendChild(div);\n",
              "\n",
              "      const buffers = [];\n",
              "      let downloaded = 0;\n",
              "\n",
              "      const channel = await google.colab.kernel.comms.open(id);\n",
              "      // Send a message to notify the kernel that we're ready.\n",
              "      channel.send({})\n",
              "\n",
              "      for await (const message of channel.messages) {\n",
              "        // Send a message to notify the kernel that we're ready.\n",
              "        channel.send({})\n",
              "        if (message.buffers) {\n",
              "          for (const buffer of message.buffers) {\n",
              "            buffers.push(buffer);\n",
              "            downloaded += buffer.byteLength;\n",
              "            progress.value = downloaded;\n",
              "          }\n",
              "        }\n",
              "      }\n",
              "      const blob = new Blob(buffers, {type: 'application/binary'});\n",
              "      const a = document.createElement('a');\n",
              "      a.href = window.URL.createObjectURL(blob);\n",
              "      a.download = filename;\n",
              "      div.appendChild(a);\n",
              "      a.click();\n",
              "      div.remove();\n",
              "    }\n",
              "  "
            ],
            "text/plain": [
              "<IPython.core.display.Javascript object>"
            ]
          },
          "metadata": {
            "tags": []
          }
        },
        {
          "output_type": "display_data",
          "data": {
            "application/javascript": [
              "download(\"download_f2b51a3d-8b89-42ed-831c-08de5093b776\", \"faiss.csv\", 13497)"
            ],
            "text/plain": [
              "<IPython.core.display.Javascript object>"
            ]
          },
          "metadata": {
            "tags": []
          }
        }
      ]
    }
  ]
}